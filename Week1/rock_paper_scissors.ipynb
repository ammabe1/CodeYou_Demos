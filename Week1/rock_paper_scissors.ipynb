{
 "cells": [
  {
   "cell_type": "markdown",
   "metadata": {},
   "source": []
  },
  {
   "cell_type": "code",
   "execution_count": 177,
   "metadata": {},
   "outputs": [],
   "source": [
    "# Import the random package to dictate Player 2's choice\n",
    "\n",
    "import random"
   ]
  },
  {
   "cell_type": "code",
   "execution_count": 178,
   "metadata": {},
   "outputs": [
    {
     "name": "stdout",
     "output_type": "stream",
     "text": [
      "You did not enter a number. Please try again.\n",
      "You did not enter a number. Please try again.\n",
      "You did not enter a number. Please try again.\n",
      "The input is not between 1 and 3, please try again.\n",
      "The input is not between 1 and 3, please try again.\n"
     ]
    }
   ],
   "source": [
    "# Take an initial input from the player\n",
    "\n",
    "Player_1 = input(\"Please enter a number 1 through 3\")\n",
    "\n",
    "# Create a loop which will only exit when the datatype of Player_1 is int\n",
    "\n",
    "while type(Player_1) != int:\n",
    "\n",
    "    # Try to convert Player_1 to an integer\n",
    "\n",
    "    try: \n",
    "        Player_1 = int(Player_1)\n",
    "\n",
    "    # If this conversion fails alert the player they have entered a non-integer input and prompt them to try again\n",
    "\n",
    "    except:\n",
    "        print('You did not enter a number. Please try again.')\n",
    "\n",
    "        # Take the new user input, this will initialize a new iteration of the loop where the input will again be validated until it's an integer.\n",
    "        # For clarity this takes the execution of the program back through the logic in the line 'while type(Player_1) != int:'\n",
    "\n",
    "        Player_1 = input(\"Please enter a number 1 through 3\")\n",
    "\n",
    "# Now that we know the input is an integer (at this point) we validate whether it is between 1 and 3 with the below logic, if it is nothing below\n",
    "# will actually execute and we move on to the next cell\n",
    "\n",
    "if type(Player_1) == int and Player_1 <= 0 or Player_1 >= 4:\n",
    "\n",
    "    # If Player_1 is an integer (at this point) but is not between 1 and 3 the below will execute and create a new loop that will not exit until\n",
    "    # Player_1 stores a number between 1 and 3. Each time we take a new input we create a new possibility that it will not be able to be converted\n",
    "    # to an integer.\n",
    "\n",
    "    while type(Player_1) == int and Player_1 <= 0 or Player_1 >= 4:\n",
    "\n",
    "        # If Player_1 stores an integerr at this point the below code will execute alerting the player that their int is not between 1 and 3.\n",
    "\n",
    "        if type(Player_1) == int:\n",
    "            print('The input is not between 1 and 3, please try again.')\n",
    "\n",
    "            # We now take new input and immediately try to convert it, if the conversion fails then the except blocks executes\n",
    "\n",
    "            try:\n",
    "                Player_1 = int(input(\"Please enter a number 1 through 3\"))\n",
    "\n",
    "            except:\n",
    "\n",
    "                # Since we have taken input that will not convert to an integer we have to repeat the logic from before to ensure an integer\n",
    "\n",
    "                while type(Player_1) != int:\n",
    "                    try: \n",
    "                        Player_1 = int(Player_1)\n",
    "                    except:\n",
    "                        print('You did not enter a number. Please try again.')\n",
    "\n",
    "                        Player_1 = input(\"Please enter a number 1 through 3\")\n",
    "\n",
    "        # This only fires if the condition in the block 'if type(Player_1) == int:' evaluates to False which means at that point Player_1 did not\n",
    "        # store an integer and we have to again prompt the user for numerical input\n",
    "            \n",
    "        else:\n",
    "            while type(Player_1) != int:\n",
    "                try: \n",
    "                    Player_1 = int(Player_1)\n",
    "                except:\n",
    "                    print('You did not enter a number. Please try again.')"
   ]
  },
  {
   "cell_type": "code",
   "execution_count": 179,
   "metadata": {},
   "outputs": [],
   "source": [
    "# Convert the players number which we have validated is between 1 and 3 to either rock, paper, or scissors and store that value in Player_1_C\n",
    "\n",
    "if Player_1 == 1:\n",
    "  Player_1_C = \"rock\"\n",
    "elif Player_1 == 2:\n",
    "  Player_1_C = \"paper\"\n",
    "elif Player_1 == 3:\n",
    "  Player_1_C = \"scissors\""
   ]
  },
  {
   "cell_type": "code",
   "execution_count": 180,
   "metadata": {},
   "outputs": [],
   "source": [
    "# Generate a random number between 1 and 3 using Python's random library\n",
    "\n",
    "Player_2 = random.randint(1, 3)\n",
    "\n",
    "# Convert the computer player or Player_2's number to either rock, paper or scissors and store that value in Player_2_C\n",
    "\n",
    "if Player_2 == 1:\n",
    "  Player_2_C = \"rock\"\n",
    "elif Player_2 == 2:\n",
    "  Player_2_C = \"paper\"\n",
    "elif Player_2 == 3:\n",
    "  Player_2_C = \"scissors\"\n"
   ]
  },
  {
   "cell_type": "code",
   "execution_count": 181,
   "metadata": {},
   "outputs": [
    {
     "name": "stdout",
     "output_type": "stream",
     "text": [
      "Player 2 wins\n",
      "paper\n",
      "scissors\n"
     ]
    }
   ],
   "source": [
    "\n",
    "# Compare Player_1_C to Player_2_C and print the results of the game back to the player. The else block SHOULD never fire, but it's always a good \n",
    "# idea to cover the possibility that input would not be as we expect it to be. \n",
    "\n",
    "if Player_1_C == \"rock\" and Player_2_C == \"paper\":\n",
    "  print(\"Player 2 wins\")\n",
    "elif Player_1_C == \"rock\" and Player_2_C == \"scissors\":\n",
    "  print(\"Player 1 wins\")\n",
    "elif Player_1_C == \"scissors\" and Player_2_C == \"rock\":\n",
    "  print(\"Player 2 wins\")\n",
    "elif Player_1_C == \"scissors\" and Player_2_C == \"paper\":\n",
    "  print(\"Player 1 wins\")\n",
    "elif Player_1_C == \"paper\" and Player_2_C == \"rock\":\n",
    "  print(\"Player 1 wins\")\n",
    "elif Player_1_C == \"paper\" and Player_2_C == \"scissors\":\n",
    "  print(\"Player 2 wins\")\n",
    "elif Player_1_C == Player_2_C:\n",
    "  print(\"You tied.\")\n",
    "else:\n",
    "  print('Invalid input :(')\n",
    "\n",
    "# Print Player 1's choice\n",
    "\n",
    "print(Player_1_C)\n",
    "\n",
    "# Print the computer's choice\n",
    "\n",
    "print(Player_2_C)"
   ]
  }
 ],
 "metadata": {
  "kernelspec": {
   "display_name": "base",
   "language": "python",
   "name": "python3"
  },
  "language_info": {
   "codemirror_mode": {
    "name": "ipython",
    "version": 3
   },
   "file_extension": ".py",
   "mimetype": "text/x-python",
   "name": "python",
   "nbconvert_exporter": "python",
   "pygments_lexer": "ipython3",
   "version": "3.11.7"
  }
 },
 "nbformat": 4,
 "nbformat_minor": 2
}
