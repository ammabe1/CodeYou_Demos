{
 "cells": [
  {
   "cell_type": "code",
   "execution_count": 1,
   "id": "529bfc6a",
   "metadata": {},
   "outputs": [
    {
     "name": "stdout",
     "output_type": "stream",
     "text": [
      "What is your name? Matt\n",
      "Matt\n"
     ]
    }
   ],
   "source": [
    "ask_name = \"What is your name? \"\n",
    "\n",
    "name = input(ask_name)\n",
    "\n",
    "print(name)"
   ]
  },
  {
   "cell_type": "code",
   "execution_count": 2,
   "id": "b878a970",
   "metadata": {},
   "outputs": [
    {
     "name": "stdout",
     "output_type": "stream",
     "text": [
      "Why did you decide to join Code Louisville? To learn Python\n",
      "To learn Python\n"
     ]
    }
   ],
   "source": [
    "ask_purpose = \"Why did you decide to join Code Louisville? \"\n",
    "\n",
    "purpose = input(ask_purpose)\n",
    "\n",
    "print(purpose)"
   ]
  },
  {
   "cell_type": "code",
   "execution_count": 3,
   "id": "5fda1918",
   "metadata": {},
   "outputs": [
    {
     "name": "stdout",
     "output_type": "stream",
     "text": [
      "What are you interested in outside of programming? Baseball\n",
      "Baseball\n"
     ]
    }
   ],
   "source": [
    "ask_hobbies = \"What are you interested in outside of programming? \"\n",
    "\n",
    "hobbies = input(ask_hobbies)\n",
    "\n",
    "print(hobbies)"
   ]
  },
  {
   "cell_type": "code",
   "execution_count": 4,
   "id": "6407c4c8",
   "metadata": {},
   "outputs": [
    {
     "name": "stdout",
     "output_type": "stream",
     "text": [
      "What do you aspire to achieve with your new programming skills? Improve at data analytics\n",
      "Improve at data analytics\n"
     ]
    }
   ],
   "source": [
    "ask_goals = \"What do you aspire to achieve with your new programming skills? \"\n",
    "\n",
    "goals = input(ask_goals)\n",
    "\n",
    "print(goals)"
   ]
  },
  {
   "cell_type": "code",
   "execution_count": 5,
   "id": "fdd05576",
   "metadata": {},
   "outputs": [
    {
     "name": "stdout",
     "output_type": "stream",
     "text": [
      "What prompted you to set this goal? Ambition\n",
      "Ambition\n"
     ]
    }
   ],
   "source": [
    "ask_motivator = \"What prompted you to set this goal? \"\n",
    "\n",
    "motivator = input(ask_motivator)\n",
    "\n",
    "print(motivator)"
   ]
  },
  {
   "cell_type": "code",
   "execution_count": 6,
   "id": "bcb9d7ed",
   "metadata": {},
   "outputs": [],
   "source": [
    "f = open(name + \"_profile.txt\", \"w\")\n",
    "f.write(ask_name + \"\\n\\n\" + name + \"\\n\\n\" + ask_purpose + \"\\n\\n\" + purpose + \"\\n\\n\" + ask_hobbies + \"\\n\\n\" + hobbies + \"\\n\\n\" +\n",
    "       ask_goals + \"\\n\\n\" + goals + \"\\n\\n\" + ask_motivator + \"\\n\\n\" + motivator)\n",
    "f.close()"
   ]
  },
  {
   "cell_type": "code",
   "execution_count": null,
   "id": "e121d91b",
   "metadata": {},
   "outputs": [],
   "source": []
  }
 ],
 "metadata": {
  "kernelspec": {
   "display_name": "Python 3 (ipykernel)",
   "language": "python",
   "name": "python3"
  },
  "language_info": {
   "codemirror_mode": {
    "name": "ipython",
    "version": 3
   },
   "file_extension": ".py",
   "mimetype": "text/x-python",
   "name": "python",
   "nbconvert_exporter": "python",
   "pygments_lexer": "ipython3",
   "version": "3.11.7"
  }
 },
 "nbformat": 4,
 "nbformat_minor": 5
}
