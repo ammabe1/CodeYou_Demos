{
 "cells": [
  {
   "cell_type": "markdown",
   "id": "322f4693",
   "metadata": {},
   "source": [
    "<h1 align='center'>What is a variable?</h1>"
   ]
  },
  {
   "cell_type": "markdown",
   "id": "4e1b9f8d",
   "metadata": {},
   "source": [
    "**Variables are containers for storing data values.**\n",
    "\n",
    "https://www.w3schools.com/python/python_variables.asp\n",
    "    \n",
    "**Sounds easy enough right? I can't stress the importance of getting in the habit of using variables for well, almost everything. A lot of the magic of programming is in storing and reusing or processing values. Under the hood it is often variables that streamlines these processes.**\n",
    "\n",
    "**To declare a variable it is as simple as using the =. You give the variable a name (literally anything you want spare a few reserved keywords,) press = then tell the interpreter what value you want to store. This name can be thought of as a box that stores the value passed on the other side of the =.**\n",
    "\n",
    "**For example**"
   ]
  },
  {
   "cell_type": "code",
   "execution_count": 2,
   "id": "8c2a61e0",
   "metadata": {},
   "outputs": [
    {
     "name": "stdout",
     "output_type": "stream",
     "text": [
      "This is a value stored in the box.\n"
     ]
    }
   ],
   "source": [
    "# Example of how values are stored in variables\n",
    "\n",
    "variable_name = 'This is a value stored in the box.'\n",
    "\n",
    "variable_name"
   ]
  },
  {
   "cell_type": "markdown",
   "id": "dee35404",
   "metadata": {},
   "source": [
    "**I'd like to note very early that there is a big difference in Python between using = and ==. When we declare a variable we use = to let the interpreter know what value we want to put into the variable. == is used for comparison like finding out if one variable is equal to another, and not for assignment.**"
   ]
  },
  {
   "cell_type": "code",
   "execution_count": 5,
   "id": "3db919c7",
   "metadata": {},
   "outputs": [
    {
     "data": {
      "text/plain": [
       "12"
      ]
     },
     "execution_count": 5,
     "metadata": {},
     "output_type": "execute_result"
    }
   ],
   "source": [
    "# Example of how you can perform operations using variables\n",
    "\n",
    "x = 5\n",
    "\n",
    "y = 7\n",
    "\n",
    "x + y"
   ]
  },
  {
   "cell_type": "markdown",
   "id": "7ebd84f8",
   "metadata": {},
   "source": [
    "**This will evaluate to 12 as x stores 5 and y stores 7 thus 5 + 7 = 12. With such a simplistic example it may not seem that valuable to store these values in a variable, however as we move along you will see that variables are one of the most important concepts to wrap your head around early.**"
   ]
  },
  {
   "cell_type": "markdown",
   "id": "ca55cb28",
   "metadata": {},
   "source": [
    "<h1 align='Center'>Intro to Datatypes</h1>"
   ]
  },
  {
   "cell_type": "markdown",
   "id": "6cdecfd9",
   "metadata": {},
   "source": [
    "<h3>String</h3>"
   ]
  },
  {
   "cell_type": "markdown",
   "id": "b04828c4",
   "metadata": {},
   "source": [
    "**A String is a data structure in Python Programming that represents a sequence of characters. It is an immutable data type, meaning that once you have created a string, you cannot change it. Python String are used widely in many different applications, such as storing and manipulating text data, representing names, addresses, and other types of data that can be represented as text.**\n",
    "\n",
    "https://www.geeksforgeeks.org/python-string/"
   ]
  },
  {
   "cell_type": "markdown",
   "id": "9e35e13b",
   "metadata": {},
   "source": [
    "**A string in Python is created by putting a collection of characters within quotation marks.**\n",
    "\n",
    "**I'll give a couple of examples of things that are and are not strings.**\n",
    "\n",
    "'This is a string' <--- **Is a string**\n",
    "\n",
    "'1 Downing Street' <--- **Also a string**\n",
    "\n",
    "'7/2/2019' <--- **Indeed, a string**\n",
    "\n",
    "'@Pyth0n!uvr' <--- **A very l33t string**\n",
    "\n",
    "13 <--- **Not a string**\n",
    "\n",
    "asdklgjsdag%*!$&1359018uthdskla <--- **This is your cat walking across your keyboard, not a string**\n",
    "\n",
    "'asdklgjsdag%*!$&1359018uthdskla' <--- **This is your cat walking across your keyboard as a string**"
   ]
  },
  {
   "cell_type": "markdown",
   "id": "99cb1e00",
   "metadata": {},
   "source": [
    "<h3> Integer or Int</h3>\n",
    "\n",
    "**Int, or integer, is a whole number, positive or negative, without decimals, of unlimited length.**\n",
    "\n",
    "https://www.w3schools.com/python/python_numbers.asp\n",
    "\n",
    "**This should be pretty self explanatory, and it is worth noting it is very common to use integers to do math. It is perfectly acceptable to use a Python interpreter as a calculator.**\n",
    "\n",
    "**I'll give a few examples**\n",
    "\n",
    "47 <--- **This is an int**\n",
    "\n",
    "73829147 <--- **Also an int**\n",
    "\n",
    "-481 <--- **Once again, an int**\n",
    "\n",
    "7/12/1998 <--- **Not an int**\n",
    "\n",
    "682.15 <--- **Also not an int**"
   ]
  },
  {
   "cell_type": "markdown",
   "id": "d546e211",
   "metadata": {},
   "source": [
    "<h3> Floating point number or float</h3>\n",
    "\n",
    "**Float, or \"floating point number\" is a number, positive or negative, containing one or more decimals.**\n",
    "\n",
    "https://www.w3schools.com/python/python_numbers.asp\n",
    "    \n",
    "**So basically any number with a decimal point...this can and often does include .0. If you're doing math you can add an int to a float for example, and the return will be a float. You can not add an int or a float to a string. Interestingly you can multiply a string and an int, but not a float, try it!**\n",
    "\n",
    "49267.126847 <--- **Float**\n",
    "\n",
    "-426.7 <--- **Another float**\n",
    "\n",
    "12.0 <--- **You guessed it, float**\n",
    "\n",
    "512 <--- **Not a float, an int**\n",
    "\n",
    "'671.143' <--- **Not a float, this is a string**"
   ]
  },
  {
   "cell_type": "markdown",
   "id": "262689c4",
   "metadata": {},
   "source": [
    "<h3>Boolean or bool</h3>\n",
    "\n",
    "**In programming you often need to know if an expression is True or False.**\n",
    "\n",
    "**You can evaluate any expression in Python, and get one of two answers, True or False.**\n",
    "\n",
    "**When you compare two values, the expression is evaluated and Python returns the Boolean answer**\n",
    "\n",
    "https://www.w3schools.com/python/python_booleans.asp\n",
    "    \n",
    "**So a boolean is essentially True or False. Notice the upper case T and F here, these are important. true and false are not booleans. You will often use expressions like 12 > 5 (evaluates to True) or if 'string' == 'diff_string' (evaluates to False.)**\n",
    "\n",
    "True <--- **Boolean**\n",
    "\n",
    "False <--- **The only other possible boolean**\n",
    "\n",
    "true <--- **Not a boolean**\n",
    "\n",
    "12 > 5 <--- **Will evaluate to a boolean, but this is the expression, not the boolean itself which is what Python returns when evaluating it**\n",
    "\n",
    "**Booleans are a super important concept when working with if/else logic, which we can talk about today, and when working with loops which we will talk about soon.**"
   ]
  },
  {
   "cell_type": "markdown",
   "id": "cfd76cf6",
   "metadata": {},
   "source": [
    "<h3>Nonetype</h3>\n",
    "\n",
    "**The NoneType object is a special type in Python that represents the absence of a value. In other words, NoneType is the type for the None object, which is an object that contains no value or defines a null value. It is used to indicate that a variable or expression does not have a value or has an undefined value. “None” basically means the absence of a value.**\n",
    "\n",
    "https://www.geeksforgeeks.org/how-to-check-nonetype-in-python/\n",
    "    \n",
    "**This won't come up a lot and I don't plan to say a lot about it, however I did want to introduce that it exists. There is indeed a datatype associated with the absence of a value.**"
   ]
  },
  {
   "cell_type": "markdown",
   "id": "5745e9eb",
   "metadata": {},
   "source": [
    "<h3>I want to note this is not an exhaustive list of datatypes in Python. Part of the reason it is important to know these datatypes is each type has a set of what are referred to as methods, which are things you can do with objects of a datatype. For example the string data type has a method .upper() which will convert the string to all upper case. You would call it like 'string'.upper() which would return 'STRING'. These methods differ from one datatype to another, for example it would not make sense to make an integer uppercase. In a few weeks we'll talk about some more data types like lists, dicts, sets, etc. These can also be referred to as 'iterables.' For now I think this is sufficient for us to move on.</h3> "
   ]
  },
  {
   "cell_type": "markdown",
   "id": "1c1e5928",
   "metadata": {},
   "source": [
    "<h1 align='center'>If/Else Logic</h1>"
   ]
  },
  {
   "cell_type": "markdown",
   "id": "461abfe6",
   "metadata": {},
   "source": [
    "<h3>If</h3>\n",
    "\n",
    "**Python supports the usual logical conditions from mathematics:**\n",
    "\n",
    "**Equals: a == b**\n",
    "    \n",
    "**Not Equals: a != b**\n",
    "    \n",
    "**Less than: a < b**\n",
    "    \n",
    "**Less than or equal to: a <= b**\n",
    "    \n",
    "**Greater than: a > b**\n",
    "    \n",
    "**Greater than or equal to: a >= b**\n",
    "    \n",
    "**These conditions can be used in several ways, most commonly in \"if statements\" and loops.**\n",
    "\n",
    "**An \"if statement\" is written by using the if keyword.**\n",
    "\n",
    "**Python relies on indentation (whitespace at the beginning of a line) to define scope in the code. Other programming languages often use curly-brackets for this purpose.**\n",
    "\n",
    "https://www.w3schools.com/python/python_conditions.asp\n",
    "    \n",
    "**This may not give the greatest idea of the concept this logic is meant to address. You use if/else logic when you want to do one thing if a condition is True, and a different thing if a condition is False.**\n",
    "\n",
    "**Let's say we're writing a program that is only accessible to legal adults (and we trust the user to be honest about age,) we could ask the user to input their age, store the value in a variable called age and we could write logic like:**"
   ]
  },
  {
   "cell_type": "code",
   "execution_count": 6,
   "id": "4b81c8a3",
   "metadata": {},
   "outputs": [
    {
     "name": "stdout",
     "output_type": "stream",
     "text": [
      "I'm sorry but you are not old enough to interact with the program. Please come back when you are 18 :)\n"
     ]
    }
   ],
   "source": [
    "# Example if/else logic\n",
    "\n",
    "age = 10\n",
    "\n",
    "if age >= 18:\n",
    "    print(\"Great, let's proceed with the program!\")\n",
    "else:\n",
    "    print(\"I'm sorry but you are not old enough to interact with the program. Please come back when you are 18 :)\")"
   ]
  },
  {
   "cell_type": "markdown",
   "id": "ec98ecb5",
   "metadata": {},
   "source": [
    "**Note the indentation on the line after the if and else statements. This is required with this kind of logic. It does not matter how many spaces as long as spaces are present though it is standard to use the tab key or 4 spaces. 3 spaces or 5 spaces would also work however as long as it is consistent.**\n",
    "    \n",
    "<h3>Elif</h3>\n",
    "\n",
    "**The elif keyword is Python's way of saying \"if the previous conditions were not true, then try this condition\".**\n",
    "\n",
    "https://www.w3schools.com/python/python_conditions.asp\n",
    "    \n",
    "**So Python offers the capability to chain conditions together using Elif. Let's say we have a junior version of the website for users from 13-17, and another version for users 21+. We could create the following statement to incorporate all of these conditions.**"
   ]
  },
  {
   "cell_type": "code",
   "execution_count": 7,
   "id": "123af43a",
   "metadata": {},
   "outputs": [
    {
     "name": "stdout",
     "output_type": "stream",
     "text": [
      "I'm sorry you can not use the program, please come back when you're 13 to access the junior version of the program.\n"
     ]
    }
   ],
   "source": [
    "# Example if/elif/else logic\n",
    "\n",
    "if age >= 21:\n",
    "    print(\"You can now access the 21+ version of the program.\")\n",
    "elif age >= 18 and age < 21:\n",
    "    print(\"You can access the adults under 21 version of the program.\")\n",
    "elif age >=13 and age < 18:\n",
    "    print(\"You can access the junior version of the program.\")\n",
    "else:\n",
    "    print(\"I'm sorry you can not use the program, please come back when you're 13 to access the junior version of the program.\")"
   ]
  },
  {
   "cell_type": "markdown",
   "id": "18c49643",
   "metadata": {},
   "source": [
    "<h3>Else</h3>\n",
    "\n",
    "**The else keyword catches anything which isn't caught by the preceding conditions (if and elif.)**"
   ]
  },
  {
   "cell_type": "code",
   "execution_count": 8,
   "id": "6b50ebd6",
   "metadata": {},
   "outputs": [
    {
     "name": "stdout",
     "output_type": "stream",
     "text": [
      "You can now access the 21+ version of the program.\n"
     ]
    }
   ],
   "source": [
    "# Testing the example code to ensure that it will perform as we expected\n",
    "\n",
    "# ALWAYS TEST YOUR CODE!!!!!\n",
    "\n",
    "age = 22\n",
    "\n",
    "if age >= 21:\n",
    "    print(\"You can now access the 21+ version of the program.\")\n",
    "elif age >= 18 and age < 21:\n",
    "    print(\"You can access the adults under 21 version of the program.\")\n",
    "elif age >=13 and age < 18:\n",
    "    print(\"You can access the junior version of the program.\")\n",
    "else:\n",
    "    print(\"I'm sorry you can not use the program, please come back when you're 13 to access the junior version of the program.\")"
   ]
  },
  {
   "cell_type": "markdown",
   "id": "91f9c7cb",
   "metadata": {},
   "source": [
    "<h1 align='center'>Profile Creation Program</h1>"
   ]
  },
  {
   "cell_type": "markdown",
   "id": "6eb66368",
   "metadata": {},
   "source": [
    "**This demo emulates in a Pythonic way how to collect input from a user and output it to a text file.**\n",
    "\n",
    "**The demo makes very regular use of variables to hammer home their importance in programming.**\n",
    "\n",
    "**Though in production the print() statements at the end of each cell would be overkill, I have kept them here to get us instant feedback on our work.**"
   ]
  },
  {
   "cell_type": "markdown",
   "id": "6c6bf7ab",
   "metadata": {},
   "source": [
    "<h3>Python input() function</h3>"
   ]
  },
  {
   "cell_type": "markdown",
   "id": "77c42b0b",
   "metadata": {},
   "source": [
    "**Python input() function is used to take user input. By default, it returns the user input in form of a string.**\n",
    "\n",
    "https://www.geeksforgeeks.org/python-input-function/\n",
    "    \n",
    "**input() is most commonly used when performing Python from the console (I'll show you what this looks like.) It allows a user the opportunity to type in input to use in the program. It is worth noting that this input always comes into Python in the form of a string, and has to be converted if for example you need to do math with it.**"
   ]
  },
  {
   "cell_type": "code",
   "execution_count": 3,
   "id": "bac5a949",
   "metadata": {},
   "outputs": [
    {
     "name": "stdout",
     "output_type": "stream",
     "text": [
      "What is your name? Matt\n",
      "Matt\n"
     ]
    }
   ],
   "source": [
    "# Save the question to ask the user into the variable ask_name\n",
    "\n",
    "ask_name = \"What is your name? \"\n",
    "\n",
    "# Use the variable with the saved question as the prompt for user input. Save what the user inputs into the variable name.\n",
    "\n",
    "name = input(ask_name)\n",
    "\n",
    "# Print the user input. \n",
    "\n",
    "print(name)"
   ]
  },
  {
   "cell_type": "code",
   "execution_count": 4,
   "id": "f756474e",
   "metadata": {},
   "outputs": [
    {
     "name": "stdout",
     "output_type": "stream",
     "text": [
      "Why did you decide to join Code:You? To get better at data analytics\n",
      "To get better at data analytics\n"
     ]
    }
   ],
   "source": [
    "# Save the question to ask the user into the variable ask_purpose\n",
    "\n",
    "ask_purpose = \"Why did you decide to join Code:You? \"\n",
    "\n",
    "# Use the variable with the saved question as the prompt for user input. Save what the user inputs into the variable purpose.\n",
    "\n",
    "purpose = input(ask_purpose)\n",
    "\n",
    "# Print the user input.\n",
    "\n",
    "print(purpose)"
   ]
  },
  {
   "cell_type": "code",
   "execution_count": 11,
   "id": "b81f3320",
   "metadata": {},
   "outputs": [
    {
     "name": "stdout",
     "output_type": "stream",
     "text": [
      "What are you interested in outside of programming? Baseball\n",
      "Baseball\n"
     ]
    }
   ],
   "source": [
    "# Save the question to ask the user into the variable ask_hobbies\n",
    "\n",
    "ask_hobbies = \"What are you interested in outside of programming? \"\n",
    "\n",
    "# Use the variable with the saved question as the prompt for user input. Save what the user inputs into the variable hobbies.\n",
    "\n",
    "hobbies = input(ask_hobbies)\n",
    "\n",
    "# Print the user input.\n",
    "\n",
    "print(hobbies)"
   ]
  },
  {
   "cell_type": "code",
   "execution_count": 12,
   "id": "3dde235a",
   "metadata": {},
   "outputs": [
    {
     "name": "stdout",
     "output_type": "stream",
     "text": [
      "What do you aspire to achieve with your new programming skills? Provide more valuable data-driven insights\n",
      "Provide more valuable data-driven insights\n"
     ]
    }
   ],
   "source": [
    "# Save the question to ask the user into the variable ask_goals\n",
    "\n",
    "ask_goals = \"What do you aspire to achieve with your new programming skills? \"\n",
    "\n",
    "# Use the variable with the saved question as the prompt for user input. Save what the user inputs into the variable goals.\n",
    "\n",
    "goals = input(ask_goals)\n",
    "\n",
    "# Print the user input.\n",
    "\n",
    "print(goals)"
   ]
  },
  {
   "cell_type": "code",
   "execution_count": 13,
   "id": "65fa054e",
   "metadata": {},
   "outputs": [
    {
     "name": "stdout",
     "output_type": "stream",
     "text": [
      "What prompted you to set this goal? To impact my community\n",
      "To impact my community\n"
     ]
    }
   ],
   "source": [
    "# Save the question to ask the user into the variable ask_motivator\n",
    "\n",
    "ask_motivator = \"What prompted you to set this goal? \"\n",
    "\n",
    "# Use the variable with the saved question as the prompt for user input. Save what the user inputs into the variable motivator.\n",
    "\n",
    "motivator = input(ask_motivator)\n",
    "\n",
    "# Print the user input.\n",
    "\n",
    "print(motivator)"
   ]
  },
  {
   "cell_type": "markdown",
   "id": "5f234a5b",
   "metadata": {},
   "source": [
    "<h3>open() function</h3>"
   ]
  },
  {
   "cell_type": "markdown",
   "id": "099263c7",
   "metadata": {},
   "source": [
    "**The open() function opens a file, and returns it as a file object.**\n",
    "\n",
    "https://www.w3schools.com/python/ref_func_open.asp\n",
    "    \n",
    "**Inside the parentheses of a function (we'll talk a lot more about functions in following weeks) we can pass what are called arguments which is additional information the function can use to indicate to it how/what to perform.**\n",
    "                                        \n",
    "**In this instance we are passing the argument \"w\" which tells the function to open a file in 'write' mode. You can also open files with this function in 'read', 'append' or 'create' mode passing it a different argument.** "
   ]
  },
  {
   "cell_type": "markdown",
   "id": "49199092",
   "metadata": {},
   "source": [
    "<h3>String concatenation</h3>"
   ]
  },
  {
   "cell_type": "markdown",
   "id": "240bc9c9",
   "metadata": {},
   "source": [
    "**String concatenation means add strings together.**\n",
    "\n",
    "**Use the + character to add a variable to another variable:**\n",
    "    \n",
    "https://www.w3schools.com/python/gloss_python_string_concatenation.asp\n",
    "    \n",
    "**You can 'concatenate' or append strings together using the + for example 'Python' + ' is fun' creates the string 'Python is fun'.**"
   ]
  },
  {
   "cell_type": "code",
   "execution_count": 14,
   "id": "8c1f08e4",
   "metadata": {},
   "outputs": [],
   "source": [
    "# Open a file named by concatenating the value in the variable name to _profile.txt in write mode as indicated by the argument \n",
    "# \"w\". Store a reference to this file in the variable file. \n",
    "\n",
    "file = open(name + \"_profile.txt\", \"w\")"
   ]
  },
  {
   "cell_type": "markdown",
   "id": "2e2f2ede",
   "metadata": {},
   "source": [
    "<h3>file_object.write()</h3>"
   ]
  },
  {
   "cell_type": "markdown",
   "id": "cb2e408d",
   "metadata": {},
   "source": [
    "**write() : Inserts the string str1 in a single line in the text file.**\n",
    "    \n",
    "<img src='filedotwrite().jpg'>\n",
    "\n",
    "https://www.geeksforgeeks.org/writing-to-file-in-python/#writing-to-file\n",
    "\n",
    "**.write() is a method of the file_object. I mentioned string methods earlier specifically .upper() which makes the string uppercase. In this instance the .write() method writes to the file_object opened above.**"
   ]
  },
  {
   "cell_type": "markdown",
   "id": "a72868cc",
   "metadata": {},
   "source": [
    "<h3>\\n Creates a New Line in a String</h3>"
   ]
  },
  {
   "cell_type": "code",
   "execution_count": 15,
   "id": "abd51ded",
   "metadata": {},
   "outputs": [
    {
     "data": {
      "text/plain": [
       "321"
      ]
     },
     "execution_count": 15,
     "metadata": {},
     "output_type": "execute_result"
    }
   ],
   "source": [
    "# Write the long concatenated string inside the parentheses to the file stored in the variable file. \n",
    "\n",
    "file.write(ask_name + \"\\n\\n\" + name + \"\\n\\n\" + ask_purpose + \"\\n\\n\" + purpose + \"\\n\\n\" + ask_hobbies + \"\\n\\n\" + hobbies + \"\\n\\n\" +\n",
    "       ask_goals + \"\\n\\n\" + goals + \"\\n\\n\" + ask_motivator + \"\\n\\n\" + motivator)"
   ]
  },
  {
   "cell_type": "markdown",
   "id": "65c7e064",
   "metadata": {},
   "source": [
    "<h3>file_object.close()</h3>"
   ]
  },
  {
   "cell_type": "markdown",
   "id": "673d8bb5",
   "metadata": {},
   "source": [
    "**Python has a close() method to close a file. The close() method can be called more than once and if any operation is performed on a closed file it raises a ValueError.**\n",
    "\n",
    "https://www.geeksforgeeks.org/how-to-open-and-close-a-file-in-python/"
   ]
  },
  {
   "cell_type": "code",
   "execution_count": 16,
   "id": "f01f152c",
   "metadata": {},
   "outputs": [],
   "source": [
    "# Close the file object\n",
    "\n",
    "file.close()"
   ]
  }
 ],
 "metadata": {
  "kernelspec": {
   "display_name": "Python 3 (ipykernel)",
   "language": "python",
   "name": "python3"
  },
  "language_info": {
   "codemirror_mode": {
    "name": "ipython",
    "version": 3
   },
   "file_extension": ".py",
   "mimetype": "text/x-python",
   "name": "python",
   "nbconvert_exporter": "python",
   "pygments_lexer": "ipython3",
   "version": "3.11.7"
  }
 },
 "nbformat": 4,
 "nbformat_minor": 5
}
