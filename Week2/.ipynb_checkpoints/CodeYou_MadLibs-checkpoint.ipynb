{
 "cells": [
  {
   "cell_type": "code",
   "execution_count": null,
   "id": "3e805110",
   "metadata": {},
   "outputs": [],
   "source": []
  },
  {
   "cell_type": "code",
   "execution_count": 1,
   "id": "770936f9-87aa-4e59-9da3-de8331f136fc",
   "metadata": {},
   "outputs": [
    {
     "name": "stdin",
     "output_type": "stream",
     "text": [
      "Please enter your name:  matt\n"
     ]
    }
   ],
   "source": [
    "# Take in a name from the user and store it in the variable name using the title method to coerce it to title case\n",
    "\n",
    "name =  input('Please enter your name: ').title()"
   ]
  },
  {
   "cell_type": "code",
   "execution_count": 2,
   "id": "52acd7fc-4634-4a56-8f7c-a0db062304a8",
   "metadata": {},
   "outputs": [
    {
     "name": "stdout",
     "output_type": "stream",
     "text": [
      "Hello, Matt. I hear you are interested in learning Python! Great choice!\n"
     ]
    }
   ],
   "source": [
    "# Print a string inserting the user's name using the variable created above\n",
    "\n",
    "print(\"Hello, \" + name + \". I hear you are interested in learning Python! Great choice!\")"
   ]
  },
  {
   "cell_type": "code",
   "execution_count": 3,
   "id": "3b848d82-3ce8-4af2-bac6-f90b6a0a0e55",
   "metadata": {},
   "outputs": [
    {
     "name": "stdin",
     "output_type": "stream",
     "text": [
      "I'm curious what sparked your interest? What do you aspire to achieve? Data Visualization\n"
     ]
    }
   ],
   "source": [
    "# Take input from the user to find out more about their interest in Python and store in the variable ambition\n",
    "\n",
    "ambition = input(\"I'm curious what sparked your interest? What do you aspire to achieve?\")"
   ]
  },
  {
   "cell_type": "code",
   "execution_count": 4,
   "id": "dd98a7fe-7690-4a23-8990-24dd759ba4b8",
   "metadata": {},
   "outputs": [
    {
     "name": "stdout",
     "output_type": "stream",
     "text": [
      "So your ambition is Data Visualization. I think Python will be very helpful for that.\n"
     ]
    }
   ],
   "source": [
    "# Print a string inserting the user's ambition from the above variable\n",
    "\n",
    "print(\"So your ambition is \" + ambition + \". I think Python will be very helpful for that.\")"
   ]
  },
  {
   "cell_type": "code",
   "execution_count": 5,
   "id": "c827b735-6148-44fd-937c-6d2fa20026ea",
   "metadata": {},
   "outputs": [
    {
     "name": "stdin",
     "output_type": "stream",
     "text": [
      "So what are your interests outside of programming? baseball\n"
     ]
    }
   ],
   "source": [
    "# Take input from the user on one of their hobbies and store it in the variable hobby using the lower method to coerce it to all lowercase\n",
    "\n",
    "hobby = input(\"So what are your interests outside of programming?\").lower()"
   ]
  },
  {
   "cell_type": "code",
   "execution_count": 6,
   "id": "6874ad6e-0f29-4b60-bd67-a1ccfa702e87",
   "metadata": {},
   "outputs": [
    {
     "name": "stdout",
     "output_type": "stream",
     "text": [
      "So you're also interested in baseball? That is a great way to spend some free time!\n"
     ]
    }
   ],
   "source": [
    "# Print a string inserting the user's hobby from the above variable\n",
    "\n",
    "print(\"So you're also interested in \" + hobby + \"? That is a great way to spend some free time!\")"
   ]
  },
  {
   "cell_type": "code",
   "execution_count": 7,
   "id": "a21d4bb8-e8b0-413e-8465-160a34e22c28",
   "metadata": {},
   "outputs": [
    {
     "name": "stdin",
     "output_type": "stream",
     "text": [
      "Do you think that learning Python could supplement your baseball experience? (y/n) y\n"
     ]
    }
   ],
   "source": [
    "# Capture a y/n 'boolean' from the user and storing it in the variable bool\n",
    "\n",
    "bool = input(\"Do you think that learning Python could supplement your \" + hobby + \" experience? (y/n)\")"
   ]
  },
  {
   "cell_type": "code",
   "execution_count": 8,
   "id": "7fd00a81-f2d3-4a06-ab5d-3c3731d95559",
   "metadata": {},
   "outputs": [],
   "source": [
    "# Validate the user input coercing y to yes or n to no and storing that string in the bool variable. If the user input does not match one of the options\n",
    "# then a new input announces the error and asks the user to try again. A true boolean stored in the variable valid is created that is coerced to True\n",
    "# from False if the user input is valid, otherwise remaining false and causing the while loop to continue\n",
    "\n",
    "valid = False\n",
    "\n",
    "while valid == False:\n",
    "    if bool.lower() == 'y':\n",
    "        bool = 'yes'\n",
    "        valid = True\n",
    "    elif bool.upper() == 'N':\n",
    "        bool = 'no'\n",
    "        valid = True\n",
    "    else:\n",
    "        bool = input(\"I'm sorry but that is invalid input. Please enter either 'y' or 'n'\")"
   ]
  },
  {
   "cell_type": "code",
   "execution_count": 9,
   "id": "4fb16636-75a5-48eb-beae-eba960a796c0",
   "metadata": {},
   "outputs": [
    {
     "name": "stdout",
     "output_type": "stream",
     "text": [
      "I agree that Python can likely enhance your baseball experience. I look forward to helping you reach that point.\n"
     ]
    }
   ],
   "source": [
    "# Provide the user some feedback based upon what they have stored in the bool variable including their hobby variable in the output using if/else logic\n",
    "# to customize the response \n",
    "\n",
    "if bool == 'yes':\n",
    "    print(\"I agree that Python can likely enhance your \" + hobby + \" experience. I look forward to helping you reach that point.\")\n",
    "elif bool == 'no':\n",
    "    print(\"Perhaps you will find something while learning Python to better your enjoyment of \" + hobby)"
   ]
  },
  {
   "cell_type": "code",
   "execution_count": 10,
   "id": "fc554e61-fd31-4886-bf68-4b72a6ec171f",
   "metadata": {},
   "outputs": [
    {
     "name": "stdout",
     "output_type": "stream",
     "text": [
      "Matt is a Code You student that is on a good path to picking up a new programming langauge. Matt would like to learn Python for Data Visualization. In their free time Matt likes to do baseball for fun. Matt believes Python can enhance their experience with baseball.\n"
     ]
    }
   ],
   "source": [
    "# Create a final string using all the individual output from the previous statements. Introduces += for appending to a string. Uses some if/else logic \n",
    "# to customize from teh boolean variable.\n",
    "\n",
    "final = name + \" is a Code You student that is on a good path to picking up a new programming langauge. \" + name\n",
    "final += \" would like to learn Python for \" + ambition + \". In their free time \" + name + \" likes to do \" + hobby + \" for fun. \"\n",
    "\n",
    "if bool == 'yes':\n",
    "    final += name + \" believes Python can enhance their experience with \" + hobby + \".\"\n",
    "else:        \n",
    "    final = final + name + \" does not believe Python can enhance their experience with \" + hobby + \". Maybe we can find a way to make that happen.\"\n",
    "\n",
    "print(final)"
   ]
  },
  {
   "cell_type": "code",
   "execution_count": 11,
   "id": "1ac1627b-8ef6-4ffb-a423-a63c885e0886",
   "metadata": {},
   "outputs": [
    {
     "data": {
      "text/plain": [
       "4"
      ]
     },
     "execution_count": 11,
     "metadata": {},
     "output_type": "execute_result"
    }
   ],
   "source": [
    "# Introduces the string.count() method to count matches of a particular statement\n",
    "\n",
    "final.count('Matt')"
   ]
  },
  {
   "cell_type": "code",
   "execution_count": 12,
   "id": "0ae9e0db-27aa-4802-9bc4-6206463417ba",
   "metadata": {},
   "outputs": [],
   "source": [
    "# Stores the vowels to the variable vowels\n",
    "\n",
    "vowels = 'aeiou'"
   ]
  },
  {
   "cell_type": "code",
   "execution_count": 13,
   "id": "6d2cd0d4-b9e0-4d4a-a817-c48b5f494753",
   "metadata": {},
   "outputs": [],
   "source": [
    "# Creates dictionary with the vowels as keys and 0 as values using the fromkeys() method\n",
    "\n",
    "count = {}.fromkeys(vowels,0)"
   ]
  },
  {
   "cell_type": "code",
   "execution_count": 14,
   "id": "08222ade-95f7-4840-94fb-ef00979ef7b0",
   "metadata": {},
   "outputs": [
    {
     "data": {
      "text/plain": [
       "{'a': 0, 'e': 0, 'i': 0, 'o': 0, 'u': 0}"
      ]
     },
     "execution_count": 14,
     "metadata": {},
     "output_type": "execute_result"
    }
   ],
   "source": [
    "# reads the count variable to the console\n",
    "\n",
    "count"
   ]
  },
  {
   "cell_type": "code",
   "execution_count": 15,
   "id": "18277286-4dc0-4e22-b064-4e832e430c7f",
   "metadata": {},
   "outputs": [],
   "source": [
    "# uses a for loop to iterate through each key and count the instances of each vowel in the final string generated earlier\n",
    "\n",
    "for letter in final:\n",
    "   if letter in count:\n",
    "       count[letter] += 1"
   ]
  },
  {
   "cell_type": "code",
   "execution_count": 16,
   "id": "0cf694d7-7f55-4f10-9108-a4e30108348c",
   "metadata": {},
   "outputs": [
    {
     "data": {
      "text/plain": [
       "{'a': 23, 'e': 23, 'i': 16, 'o': 16, 'u': 7}"
      ]
     },
     "execution_count": 16,
     "metadata": {},
     "output_type": "execute_result"
    }
   ],
   "source": [
    "# displays the dictionary with the counts included\n",
    "\n",
    "count"
   ]
  },
  {
   "cell_type": "code",
   "execution_count": 17,
   "id": "b896d885-52a7-46a7-80e8-86590650761b",
   "metadata": {},
   "outputs": [],
   "source": [
    "# Creation of a list containing all the vowels\n",
    "\n",
    "list = ['a','e','i','o','u']"
   ]
  },
  {
   "cell_type": "code",
   "execution_count": 18,
   "id": "aaa00853-6aaf-4256-8c6f-ea8b3bf97537",
   "metadata": {},
   "outputs": [
    {
     "name": "stdout",
     "output_type": "stream",
     "text": [
      "A is a vowel\n",
      "E is a vowel\n",
      "I is a vowel\n",
      "O is a vowel\n",
      "U is a vowel\n"
     ]
    }
   ],
   "source": [
    "# prints each vowel capitalized via the .upper() method with a concatenated string\n",
    "\n",
    "for char in list:\n",
    "    print(char.upper() + ' is a vowel')"
   ]
  },
  {
   "cell_type": "code",
   "execution_count": 19,
   "id": "b61a75e5-6344-44cc-85c3-56f162836dff",
   "metadata": {},
   "outputs": [
    {
     "data": {
      "text/plain": [
       "'i'"
      ]
     },
     "execution_count": 19,
     "metadata": {},
     "output_type": "execute_result"
    }
   ],
   "source": [
    "# quick demonstration on list indexing and how index values are 0 based\n",
    "\n",
    "list[2]"
   ]
  },
  {
   "cell_type": "code",
   "execution_count": 20,
   "id": "f5af0950-c5f8-42d5-8ea0-25eca6563376",
   "metadata": {},
   "outputs": [],
   "source": [
    "# creation of a string with three comma separated names\n",
    "\n",
    "string_names = 'becca,bob,jamie'"
   ]
  },
  {
   "cell_type": "code",
   "execution_count": 21,
   "id": "4b57125d-404c-4b49-87d9-40406fa7c473",
   "metadata": {},
   "outputs": [
    {
     "data": {
      "text/plain": [
       "7"
      ]
     },
     "execution_count": 21,
     "metadata": {},
     "output_type": "execute_result"
    }
   ],
   "source": [
    "# demonstration of how to find a characters index value within the above string\n",
    "\n",
    "string_names.lower().find('o')"
   ]
  },
  {
   "cell_type": "code",
   "execution_count": 22,
   "id": "ed1787ae-49a5-43d7-8245-0ea69d9c4180",
   "metadata": {},
   "outputs": [],
   "source": [
    "# Demo of how to use .split() to separate each statement in our string from above at '. '\n",
    "\n",
    "split_final = final.split('. ')"
   ]
  },
  {
   "cell_type": "code",
   "execution_count": 23,
   "id": "72f434ff-dac6-4c82-b7ef-c22df41a10f6",
   "metadata": {},
   "outputs": [
    {
     "data": {
      "text/plain": [
       "['Matt is a Code You student that is on a good path to picking up a new programming langauge',\n",
       " 'Matt would like to learn Python for Data Visualization',\n",
       " 'In their free time Matt likes to do baseball for fun',\n",
       " 'Matt believes Python can enhance their experience with baseball.']"
      ]
     },
     "execution_count": 23,
     "metadata": {},
     "output_type": "execute_result"
    }
   ],
   "source": [
    "# Prints the separated string as a list of strings\n",
    "\n",
    "split_final"
   ]
  },
  {
   "cell_type": "code",
   "execution_count": null,
   "id": "25a4770c-9ded-411b-8ca4-49b2afc7b838",
   "metadata": {},
   "outputs": [],
   "source": []
  }
 ],
 "metadata": {
  "kernelspec": {
   "display_name": "Python 3 (ipykernel)",
   "language": "python",
   "name": "python3"
  },
  "language_info": {
   "codemirror_mode": {
    "name": "ipython",
    "version": 3
   },
   "file_extension": ".py",
   "mimetype": "text/x-python",
   "name": "python",
   "nbconvert_exporter": "python",
   "pygments_lexer": "ipython3",
   "version": "3.11.7"
  }
 },
 "nbformat": 4,
 "nbformat_minor": 5
}
