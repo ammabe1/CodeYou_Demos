{
 "cells": [
  {
   "cell_type": "markdown",
   "id": "b0a9d190",
   "metadata": {},
   "source": [
    "<h1 align='center'>What is Agile?</h1>"
   ]
  },
  {
   "cell_type": "markdown",
   "id": "0f2d1825",
   "metadata": {},
   "source": [
    "**Agile Methodology is a people-focused, results-focused approach to software development that respects our rapidly changing world. It’s centered around adaptive planning, self-organization, and short delivery times. It’s flexible, fast, and aims for continuous improvements in quality, using frameworks like scrum and extreme programming (XP).**\n",
    "\n",
    "https://stackify.com/agile-methodology/"
   ]
  },
  {
   "cell_type": "markdown",
   "id": "3f4dca48",
   "metadata": {},
   "source": [
    "**The Agile methodology in a nutshell is a philosophy common in software development focused around delivering a product in what are called 'Sprints.' Sprints are defined by an agreement within a team to develop a portion of a project by a specified date. It is common for sprints to be two weeks, but different entities define a sprint by different cadences of time.**\n",
    "\n",
    "**Agile prides itself on being adaptable to change, by focusing on building projects out one portion at a time, as opposed to creating a holistic framework out before starting work. The benefit of this according to Agile practitioners is that they can more easily accommodate changing requirements over the course of a project by performing work in smaller segments.**"
   ]
  },
  {
   "cell_type": "markdown",
   "id": "da39aeaf",
   "metadata": {},
   "source": [
    "<h3>The Core Values of Agile as Laid Out in the Agile Manifesto</h3>\n",
    "\n",
    "- **Individuals and Interactions over processes and tools**\n",
    "\n",
    "- **Working Software over comprehensive documentation**\n",
    "\n",
    "- **Customer Collaboration over contract negotiation**\n",
    "\n",
    "- **Responding to Change over following a plan**\n",
    "\n",
    "https://agilemanifesto.org/\n",
    "\n",
    "**The Agile Manifesto is a documentation created by the Agile Alliance, originally a team of 17 software developers who came up with the concept.**"
   ]
  },
  {
   "cell_type": "markdown",
   "id": "4407a362",
   "metadata": {},
   "source": [
    "<h1 align='center'>What is Scrum?</h1>"
   ]
  },
  {
   "cell_type": "markdown",
   "id": "353d2cf7",
   "metadata": {},
   "source": [
    "**If you are just getting started, think of Scrum as a way to get work done as a team in small pieces at a time, with continuous experimentation and feedback loops along the way to learn and improve as you go. Scrum helps people and teams deliver value incrementally in a collaborative way. As an agile framework, Scrum provides just enough structure for people and teams to integrate into how they work, while adding the right practices to optimize for their specific needs.**\n",
    "\n",
    "https://www.scrum.org/resources/what-scrum-module"
   ]
  },
  {
   "cell_type": "markdown",
   "id": "24baaf6e",
   "metadata": {},
   "source": [
    "<h3> Roles in Scrum: Product Owner</h3>"
   ]
  },
  {
   "cell_type": "markdown",
   "id": "a13e6132",
   "metadata": {},
   "source": [
    "**The product owner is the cornerstone of project success, responsible for defining the work that needs to be completed and prioritizing that work. He or she needs to know what the project is expected to deliver and why those elements are important — to customers, to the market, to the organization. The product owner must also be the face of all of those interests to the project team, acting as an expert guide as the team carries out the project.**\n",
    "\n",
    "https://resources.scrumalliance.org/Article/scrum-roles-demystified\n",
    "    \n",
    "**The product owner acts as a liason between the client and the team. This role initially collects business requirements from the client for the desired software and negotiates with the team on how to break down and fulfill these requirements over a series of sprints.**\n",
    "\n",
    "**Similarly, the product owner is the point of contact for the client to communicate progress on the project and manage potential changes in requirements for the software.**"
   ]
  },
  {
   "cell_type": "markdown",
   "id": "22df6279",
   "metadata": {},
   "source": [
    "<h3>Roles in Scrum: Scrum Master</h3>\n",
    "    \n",
    "**The Scrum Master role has two distinct elements. First, he or she acts as the protector of the team, making sure that everyone on the project, especially the development team members, can focus on their work without any distractions. Some of those distractions may be directly associated with the work — the product owner who oversteps the boundaries, for example, and starts to dictate the work approach to the team. Or the ScrumMaster may need to protect the team from organizational disruptions or internal distractions — arranging to replace problematic computers or providing a less noisy work area, for example.**\n",
    "\n",
    "https://resources.scrumalliance.org/Article/scrum-roles-demystified\n",
    "    \n",
    "**The Scrum master's job is to aid and protect the development team in completing business objectives. The Scrum Master is very concerned with boundaries to progress and developing strategies to remove them so that the team can focus on implementing the software.**\n",
    "\n",
    "**The Scrum Master is typically a seasoned and well versed developer who can provide feedback and insight to the team concerning challenges with a project and keep them on track with forward movement.**"
   ]
  },
  {
   "cell_type": "markdown",
   "id": "5be8caef",
   "metadata": {},
   "source": [
    "<h3>Roles in Scrum: Team Member</h3>\n",
    "    \n",
    "**This leads to an obvious question: Who does have accountability for the people doing the work? That's where the development team comes in. A typical Scrum team consists of five to nine people and generally includes the typical functional roles required to complete the project. In software development, that means architects, testers, developers, and designers; but those titles are only relevant in establishing each individual's expertise.**\n",
    "\n",
    "**The team acts collectively to determine how to achieve their goals. The specific features they work on are determined by the priority established by the product owner. The way they work is guided by the Scrum process, as monitored by the ScrumMaster. Everything else is up to the team to manage, with the ScrumMaster providing as much support as needed to allow that to happen. For example, each team member can take a feature from the prioritized product backlog, then decide individually how to execute that work.**\n",
    "\n",
    "https://resources.scrumalliance.org/Article/scrum-roles-demystified\n",
    "    \n",
    "**So the team members are the people who actually execute the work. This is often developers but can include other roles such as QA (Quality Analysis) resources or DBAs (Data Base Administrators.)**"
   ]
  },
  {
   "cell_type": "markdown",
   "id": "fa3720f6",
   "metadata": {},
   "source": [
    "<h1 align='center'>What is Standup?</h1>"
   ]
  },
  {
   "cell_type": "markdown",
   "id": "ae90ce7b",
   "metadata": {},
   "source": [
    "**The daily stand-up is a short, daily meeting to discuss progress and identify blockers. The reason it’s called a “stand-up” is because if attendees participate while standing, the meeting should be kept short.**\n",
    "\n",
    "- **What did I work on yesterday?**\n",
    "\n",
    "- **What am I working on today?**\n",
    "\n",
    "- **What issues are blocking me?**\n",
    "\n",
    "https://www.atlassian.com/agile/scrum/standups\n",
    "    \n",
    "**I'll note the cadence of standups do not necessarily have to be daily, but often in the real world are. For our purposes the cadence will be weekly. Stand ups offer team members the chance to report their progress, their vision, and discuss potential issues they can foresee. This is an ideal place to ask questions or seek advice as far as how to best address a challenge.**"
   ]
  },
  {
   "cell_type": "code",
   "execution_count": null,
   "id": "c69346ef",
   "metadata": {},
   "outputs": [],
   "source": []
  }
 ],
 "metadata": {
  "kernelspec": {
   "display_name": "Python 3 (ipykernel)",
   "language": "python",
   "name": "python3"
  },
  "language_info": {
   "codemirror_mode": {
    "name": "ipython",
    "version": 3
   },
   "file_extension": ".py",
   "mimetype": "text/x-python",
   "name": "python",
   "nbconvert_exporter": "python",
   "pygments_lexer": "ipython3",
   "version": "3.11.7"
  }
 },
 "nbformat": 4,
 "nbformat_minor": 5
}
