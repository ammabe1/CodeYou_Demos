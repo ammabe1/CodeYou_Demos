{
 "cells": [
  {
   "cell_type": "code",
   "execution_count": 1,
   "id": "bb6371b6",
   "metadata": {},
   "outputs": [],
   "source": [
    "# Initialize an empty list stored in the variable 'responses' to store input taken from the user\n",
    "\n",
    "responses = []"
   ]
  },
  {
   "cell_type": "code",
   "execution_count": 2,
   "id": "770936f9-87aa-4e59-9da3-de8331f136fc",
   "metadata": {},
   "outputs": [],
   "source": [
    "# Take in a name from the user and store it in the list using the title method to coerce it to title case\n",
    "\n",
    "responses.append(input('Please enter your name: ').title())"
   ]
  },
  {
   "cell_type": "code",
   "execution_count": 3,
   "id": "52acd7fc-4634-4a56-8f7c-a0db062304a8",
   "metadata": {},
   "outputs": [
    {
     "name": "stdout",
     "output_type": "stream",
     "text": [
      "Hello, Matt. I hear you are interested in learning Python! Great choice!\n"
     ]
    }
   ],
   "source": [
    "# Print a string inserting the user's name using the list at index 0 created above\n",
    "\n",
    "print(\"Hello, \" + responses[0] + \". I hear you are interested in learning Python! Great choice!\")"
   ]
  },
  {
   "cell_type": "code",
   "execution_count": null,
   "id": "4382e2cc",
   "metadata": {},
   "outputs": [
    {
     "data": {
      "text/plain": [
       "['Matt']"
      ]
     },
     "execution_count": 4,
     "metadata": {},
     "output_type": "execute_result"
    }
   ],
   "source": [
    "# Inspect our list\n",
    "\n",
    "responses"
   ]
  },
  {
   "cell_type": "code",
   "execution_count": 5,
   "id": "3b848d82-3ce8-4af2-bac6-f90b6a0a0e55",
   "metadata": {},
   "outputs": [],
   "source": [
    "# Take input from the user to find out more about their interest in Python and store in index 1 of our responses list\n",
    "\n",
    "responses.append(input(\"I'm curious what sparked your interest? What do you aspire to achieve? \"))"
   ]
  },
  {
   "cell_type": "code",
   "execution_count": 6,
   "id": "dd98a7fe-7690-4a23-8990-24dd759ba4b8",
   "metadata": {},
   "outputs": [
    {
     "name": "stdout",
     "output_type": "stream",
     "text": [
      "So your ambition is improve with analytics. I think Python will be very helpful for that.\n"
     ]
    }
   ],
   "source": [
    "# Print a string inserting the user's ambition from index 1 of our responses list\n",
    "\n",
    "print(\"So your ambition is \" + responses[1] + \". I think Python will be very helpful for that.\")"
   ]
  },
  {
   "cell_type": "code",
   "execution_count": 7,
   "id": "c7896d58",
   "metadata": {},
   "outputs": [
    {
     "data": {
      "text/plain": [
       "['Matt', 'improve with analytics']"
      ]
     },
     "execution_count": 7,
     "metadata": {},
     "output_type": "execute_result"
    }
   ],
   "source": [
    "# Inspect our list\n",
    "\n",
    "responses"
   ]
  },
  {
   "cell_type": "code",
   "execution_count": 8,
   "id": "c827b735-6148-44fd-937c-6d2fa20026ea",
   "metadata": {},
   "outputs": [],
   "source": [
    "# Take input from the user on one of their hobbies and store it in index 2 of the responses list using the lower method to coerce it to all lowercase\n",
    "\n",
    "responses.append(input(\"So what are your interests outside of programming? \").lower())"
   ]
  },
  {
   "cell_type": "code",
   "execution_count": 9,
   "id": "6874ad6e-0f29-4b60-bd67-a1ccfa702e87",
   "metadata": {},
   "outputs": [
    {
     "name": "stdout",
     "output_type": "stream",
     "text": [
      "So you're also interested in baseball? That is a great way to spend some free time!\n"
     ]
    }
   ],
   "source": [
    "# Print a string inserting the user's hobby from index 2 of our list\n",
    "\n",
    "print(\"So you're also interested in \" + responses[2] + \"? That is a great way to spend some free time!\")"
   ]
  },
  {
   "cell_type": "code",
   "execution_count": 10,
   "id": "708affe4",
   "metadata": {},
   "outputs": [
    {
     "data": {
      "text/plain": [
       "['Matt', 'improve with analytics', 'baseball']"
      ]
     },
     "execution_count": 10,
     "metadata": {},
     "output_type": "execute_result"
    }
   ],
   "source": [
    "# Inspect our list\n",
    "\n",
    "responses"
   ]
  },
  {
   "cell_type": "code",
   "execution_count": 11,
   "id": "a21d4bb8-e8b0-413e-8465-160a34e22c28",
   "metadata": {},
   "outputs": [],
   "source": [
    "# Capture a y/n 'boolean' from the user and storing it in index 3 of our list\n",
    "\n",
    "responses.append(input(\"Do you think that learning Python could supplement your \" + responses[2] + \" experience? (y/n) \"))"
   ]
  },
  {
   "cell_type": "code",
   "execution_count": 12,
   "id": "7fd00a81-f2d3-4a06-ab5d-3c3731d95559",
   "metadata": {},
   "outputs": [],
   "source": [
    "# Validate the user input coercing y to yes or n to no and storing that string in index 3 of the list. If the user input does not match one of the options\n",
    "# then a new input announces the error and asks the user to try again. A true boolean stored in index 3 of the list is created that is coerced to True\n",
    "# from False if the user input is valid, otherwise remaining false and causing the while loop to continue\n",
    "\n",
    "valid = False\n",
    "\n",
    "while valid == False:\n",
    "    if responses[3].lower() == 'y':\n",
    "        responses[3] = True\n",
    "        valid = True\n",
    "    elif responses[3].upper() == 'N':\n",
    "        responses[3] = False\n",
    "        valid = True\n",
    "    else:\n",
    "        responses[3] = input(\"I'm sorry but that is invalid input. Please enter either 'y' or 'n' \")"
   ]
  },
  {
   "cell_type": "code",
   "execution_count": 13,
   "id": "4fb16636-75a5-48eb-beae-eba960a796c0",
   "metadata": {},
   "outputs": [
    {
     "name": "stdout",
     "output_type": "stream",
     "text": [
      "I agree that Python can likely enhance your baseball experience. I look forward to helping you reach that point.\n"
     ]
    }
   ],
   "source": [
    "# Provide the user some feedback based upon what they have stored at index 3 including their index 2 in the output using if/else logic\n",
    "# to customize the response \n",
    "\n",
    "if responses[3] == True:\n",
    "    print(\"I agree that Python can likely enhance your \" + responses[2] + \" experience. I look forward to helping you reach that point.\")\n",
    "elif responses[3] == False:\n",
    "    print(\"Perhaps you will find something while learning Python to better your enjoyment of \" + responses[2] + \".\")"
   ]
  },
  {
   "cell_type": "code",
   "execution_count": 14,
   "id": "748b36bc",
   "metadata": {},
   "outputs": [
    {
     "data": {
      "text/plain": [
       "['Matt', 'improve with analytics', 'baseball', True]"
      ]
     },
     "execution_count": 14,
     "metadata": {},
     "output_type": "execute_result"
    }
   ],
   "source": [
    "# Inspect our list\n",
    "\n",
    "responses"
   ]
  },
  {
   "cell_type": "code",
   "execution_count": 16,
   "id": "fc554e61-fd31-4886-bf68-4b72a6ec171f",
   "metadata": {},
   "outputs": [],
   "source": [
    "# Create a final string using all the individual output from the previous statements. Introduces += for appending to a string. Uses some if/else logic \n",
    "# to customize from index 3.\n",
    "\n",
    "final = responses[0] + \" is a Code You student that is on a good path to picking up a new programming langauge. \" + responses[0]\n",
    "final += \" would like to learn Python for \" + responses[1] + \". In their free time \" + responses[0] + \" likes \" + responses[2] + \". \"\n",
    "\n",
    "if responses[3] == 'yes':\n",
    "    final += responses[0] + \" believes Python can enhance their experience with \" + responses[2] + \".\"\n",
    "else:        \n",
    "    final = final + responses[0] + \" does not believe Python can enhance their experience with \" + responses[2] + \". Maybe we can find a way to make that happen.\""
   ]
  },
  {
   "cell_type": "code",
   "execution_count": 17,
   "id": "1708c382",
   "metadata": {},
   "outputs": [
    {
     "name": "stdout",
     "output_type": "stream",
     "text": [
      "Matt is a Code You student that is on a good path to picking up a new programming langauge. Matt would like to learn Python for improve with analytics. In their free time Matt likes baseball. Matt does not believe Python can enhance their experience with baseball. Maybe we can find a way to make that happen.\n"
     ]
    }
   ],
   "source": [
    "print(final)"
   ]
  },
  {
   "cell_type": "code",
   "execution_count": 18,
   "id": "1ac1627b-8ef6-4ffb-a423-a63c885e0886",
   "metadata": {},
   "outputs": [
    {
     "data": {
      "text/plain": [
       "4"
      ]
     },
     "execution_count": 18,
     "metadata": {},
     "output_type": "execute_result"
    }
   ],
   "source": [
    "# Introduces the string.count() method to count matches of a particular statement\n",
    "\n",
    "final.count('Matt')"
   ]
  },
  {
   "cell_type": "code",
   "execution_count": 19,
   "id": "0ae9e0db-27aa-4802-9bc4-6206463417ba",
   "metadata": {},
   "outputs": [],
   "source": [
    "# Stores the vowels to the variable vowels\n",
    "\n",
    "vowels = 'aeiou'"
   ]
  },
  {
   "cell_type": "code",
   "execution_count": 20,
   "id": "6d2cd0d4-b9e0-4d4a-a817-c48b5f494753",
   "metadata": {},
   "outputs": [],
   "source": [
    "# Creates dictionary with the vowels as keys and 0 as values using the fromkeys() method\n",
    "\n",
    "count = {}.fromkeys(vowels,0)"
   ]
  },
  {
   "cell_type": "code",
   "execution_count": 21,
   "id": "08222ade-95f7-4840-94fb-ef00979ef7b0",
   "metadata": {},
   "outputs": [
    {
     "data": {
      "text/plain": [
       "{'a': 0, 'e': 0, 'i': 0, 'o': 0, 'u': 0}"
      ]
     },
     "execution_count": 21,
     "metadata": {},
     "output_type": "execute_result"
    }
   ],
   "source": [
    "# reads the count variable to the console\n",
    "\n",
    "count"
   ]
  },
  {
   "cell_type": "code",
   "execution_count": 22,
   "id": "18277286-4dc0-4e22-b064-4e832e430c7f",
   "metadata": {},
   "outputs": [],
   "source": [
    "# uses a for loop to iterate through each key and count the instances of each vowel in the final string generated earlier\n",
    "\n",
    "for letter in final:\n",
    "   if letter in count:\n",
    "       count[letter] += 1"
   ]
  },
  {
   "cell_type": "code",
   "execution_count": 23,
   "id": "0cf694d7-7f55-4f10-9108-a4e30108348c",
   "metadata": {},
   "outputs": [
    {
     "data": {
      "text/plain": [
       "{'a': 28, 'e': 29, 'i': 17, 'o': 16, 'u': 5}"
      ]
     },
     "execution_count": 23,
     "metadata": {},
     "output_type": "execute_result"
    }
   ],
   "source": [
    "# displays the dictionary with the counts included\n",
    "\n",
    "count"
   ]
  },
  {
   "cell_type": "code",
   "execution_count": 24,
   "id": "b896d885-52a7-46a7-80e8-86590650761b",
   "metadata": {},
   "outputs": [],
   "source": [
    "# Creation of a list containing all the vowels\n",
    "\n",
    "list = ['a','e','i','o','u']"
   ]
  },
  {
   "cell_type": "code",
   "execution_count": 25,
   "id": "aaa00853-6aaf-4256-8c6f-ea8b3bf97537",
   "metadata": {},
   "outputs": [
    {
     "name": "stdout",
     "output_type": "stream",
     "text": [
      "A is a vowel\n",
      "E is a vowel\n",
      "I is a vowel\n",
      "O is a vowel\n",
      "U is a vowel\n"
     ]
    }
   ],
   "source": [
    "# prints each vowel capitalized via the .upper() method with a concatenated string\n",
    "\n",
    "for char in list:\n",
    "    print(char.upper() + ' is a vowel')"
   ]
  },
  {
   "cell_type": "code",
   "execution_count": 26,
   "id": "b61a75e5-6344-44cc-85c3-56f162836dff",
   "metadata": {},
   "outputs": [
    {
     "data": {
      "text/plain": [
       "'i'"
      ]
     },
     "execution_count": 26,
     "metadata": {},
     "output_type": "execute_result"
    }
   ],
   "source": [
    "# quick demonstration on list indexing and how index values are 0 based\n",
    "\n",
    "list[2]"
   ]
  },
  {
   "cell_type": "code",
   "execution_count": 27,
   "id": "f5af0950-c5f8-42d5-8ea0-25eca6563376",
   "metadata": {},
   "outputs": [],
   "source": [
    "# creation of a string with three comma separated names\n",
    "\n",
    "string_names = 'becca,bob,jamie'"
   ]
  },
  {
   "cell_type": "code",
   "execution_count": 28,
   "id": "4b57125d-404c-4b49-87d9-40406fa7c473",
   "metadata": {},
   "outputs": [
    {
     "data": {
      "text/plain": [
       "7"
      ]
     },
     "execution_count": 28,
     "metadata": {},
     "output_type": "execute_result"
    }
   ],
   "source": [
    "# demonstration of how to find a characters index value within the above string\n",
    "\n",
    "string_names.lower().find('o')"
   ]
  },
  {
   "cell_type": "code",
   "execution_count": 29,
   "id": "ed1787ae-49a5-43d7-8245-0ea69d9c4180",
   "metadata": {},
   "outputs": [],
   "source": [
    "# Demo of how to use .split() to separate each statement in our string from above at '. '\n",
    "\n",
    "split_final = final.split('. ')"
   ]
  },
  {
   "cell_type": "code",
   "execution_count": 30,
   "id": "72f434ff-dac6-4c82-b7ef-c22df41a10f6",
   "metadata": {},
   "outputs": [
    {
     "data": {
      "text/plain": [
       "['Matt is a Code You student that is on a good path to picking up a new programming langauge',\n",
       " 'Matt would like to learn Python for improve with analytics',\n",
       " 'In their free time Matt likes baseball',\n",
       " 'Matt does not believe Python can enhance their experience with baseball',\n",
       " 'Maybe we can find a way to make that happen.']"
      ]
     },
     "execution_count": 30,
     "metadata": {},
     "output_type": "execute_result"
    }
   ],
   "source": [
    "# Prints the separated string as a list of strings\n",
    "\n",
    "split_final"
   ]
  },
  {
   "cell_type": "code",
   "execution_count": null,
   "id": "25a4770c-9ded-411b-8ca4-49b2afc7b838",
   "metadata": {},
   "outputs": [],
   "source": []
  }
 ],
 "metadata": {
  "kernelspec": {
   "display_name": "Python 3 (ipykernel)",
   "language": "python",
   "name": "python3"
  },
  "language_info": {
   "codemirror_mode": {
    "name": "ipython",
    "version": 3
   },
   "file_extension": ".py",
   "mimetype": "text/x-python",
   "name": "python",
   "nbconvert_exporter": "python",
   "pygments_lexer": "ipython3",
   "version": "3.12.4"
  }
 },
 "nbformat": 4,
 "nbformat_minor": 5
}
