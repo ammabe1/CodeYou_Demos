{
 "cells": [
  {
   "cell_type": "code",
   "execution_count": 1,
   "id": "bb6371b6",
   "metadata": {},
   "outputs": [],
   "source": [
    "# Initialize an empty list stored in the variables 'questions' to store questions to ask the user\n",
    "\n",
    "questions = [\"What is your name? \", \n",
    "            \"I'm curious what sparked your interest? What do you aspire to achieve? \", \n",
    "            \"So what are your interests outside of programming? \", \n",
    "            \"Do you think that learning Python could supplement your experience with your interests? (y/n) \"]"
   ]
  },
  {
   "cell_type": "code",
   "execution_count": 2,
   "id": "770936f9-87aa-4e59-9da3-de8331f136fc",
   "metadata": {},
   "outputs": [
    {
     "name": "stdout",
     "output_type": "stream",
     "text": [
      "What is your name? matt\n",
      "I'm curious what sparked your interest? What do you aspire to achieve? improvement\n",
      "So what are your interests outside of programming? baseball\n",
      "Do you think that learning Python could supplement your experience with your interests? (y/n) y\n"
     ]
    }
   ],
   "source": [
    "# Create a function called 'interact' that takes in a list of questions\n",
    "\n",
    "def interact(list):\n",
    "    \n",
    "    # Initialize an empty list stored in the variable 'responses' to store input taken from the user\n",
    "    \n",
    "    responses = []\n",
    "    \n",
    "    # Iterate through the list of questions, referring to the current question as i\n",
    "    \n",
    "    for i in list:\n",
    "        \n",
    "        # Check if i is equal to \"What is your name? \"\n",
    "        \n",
    "        if i == \"What is your name? \":\n",
    "            \n",
    "            # If so add the user input to the list response title casing the input \n",
    "            \n",
    "            responses.append(input(i).title())\n",
    "        \n",
    "        # If i is anything other than \"What is your name? \"\n",
    "        \n",
    "        else:\n",
    "            \n",
    "            # Add the user input to the list response this time coercing to all lower case\n",
    "            \n",
    "            responses.append(input(i).lower())\n",
    "        \n",
    "    # Create a variable 'valid' to store the value False for later use in loop control\n",
    "        \n",
    "    valid = False\n",
    "    \n",
    "    # Validate the user input stored last in responses coercing y to True or n to False and replacing the last index of the \n",
    "    # list if the input is valid. If the user input does not match one of the options then a new input announces the error \n",
    "    # and asks the user to try again. When valid input is received and the last index in responses is replaced with a boolean\n",
    "    # then the variable valid is changed to True and the loop exits.\n",
    "\n",
    "    while valid == False:\n",
    "        if responses[-1].lower() == 'y':\n",
    "            responses[-1] = True\n",
    "            valid = True\n",
    "        elif responses[-1].upper() == 'N':\n",
    "            responses[-1] = False\n",
    "            valid = True\n",
    "        else:\n",
    "            responses[-1] = input(\"I'm sorry but that is invalid input. Please enter either 'y' or 'n' \")\n",
    "            \n",
    "    # Return our list of inputs from the user\n",
    "        \n",
    "    return responses\n",
    "\n",
    "# creates a variable user input to store the output from the function\n",
    "\n",
    "user_input = interact(questions)"
   ]
  },
  {
   "cell_type": "code",
   "execution_count": 3,
   "id": "30ed78af",
   "metadata": {},
   "outputs": [
    {
     "data": {
      "text/plain": [
       "['Matt', 'improvement', 'baseball', True]"
      ]
     },
     "execution_count": 3,
     "metadata": {},
     "output_type": "execute_result"
    }
   ],
   "source": [
    "# Check user_input to validate it stores the user responses\n",
    "\n",
    "user_input"
   ]
  },
  {
   "cell_type": "code",
   "execution_count": 8,
   "id": "fc554e61-fd31-4886-bf68-4b72a6ec171f",
   "metadata": {},
   "outputs": [],
   "source": [
    "# Create a final string using all the user responses from the function. Leverages += for string concatenation. Uses some \n",
    "# if/else logic to customize from the last index.\n",
    "\n",
    "final = user_input[0] + \" is a Code You student that is on a good path to picking up a new programming langauge. \" + user_input[0]\n",
    "final += \" would like to learn Python for \" + user_input[1].lower() + \". In their free time \" + user_input[0] + \" likes \" \n",
    "final += user_input[2].lower() + \". \"\n",
    "\n",
    "if user_input[-1] == True:\n",
    "    final += user_input[0] + \" believes Python can enhance their experience with \" + user_input[2].lower() + \".\"\n",
    "else:        \n",
    "    final = final + user_input[0] + \" does not believe Python can enhance their experience with \" + user_input[2].lower() \n",
    "    final += \". Maybe we can find a way to make that happen.\""
   ]
  },
  {
   "cell_type": "code",
   "execution_count": 9,
   "id": "1708c382",
   "metadata": {},
   "outputs": [
    {
     "name": "stdout",
     "output_type": "stream",
     "text": [
      "Matt is a Code You student that is on a good path to picking up a new programming langauge. Matt would like to learn Python for improvement. In their free time Matt likes baseball. Matt believes Python can enhance their experience with baseball.\n"
     ]
    }
   ],
   "source": [
    "# Print our final string representing our 'mad lib.'\n",
    "\n",
    "print(final)"
   ]
  },
  {
   "cell_type": "code",
   "execution_count": 10,
   "id": "1ac1627b-8ef6-4ffb-a423-a63c885e0886",
   "metadata": {},
   "outputs": [
    {
     "data": {
      "text/plain": [
       "4"
      ]
     },
     "execution_count": 10,
     "metadata": {},
     "output_type": "execute_result"
    }
   ],
   "source": [
    "# Introduces the string.count() method to count matches of a particular statement\n",
    "\n",
    "final.count(user_input[0])"
   ]
  },
  {
   "cell_type": "code",
   "execution_count": 11,
   "id": "0ae9e0db-27aa-4802-9bc4-6206463417ba",
   "metadata": {},
   "outputs": [],
   "source": [
    "# Stores the vowels as a string to the variable vowels\n",
    "\n",
    "vowels = 'aeiou'"
   ]
  },
  {
   "cell_type": "code",
   "execution_count": 12,
   "id": "6d2cd0d4-b9e0-4d4a-a817-c48b5f494753",
   "metadata": {},
   "outputs": [],
   "source": [
    "# Creates dictionary with each member (index) of vowels as a key and 0 as the value using the fromkeys() dictionary method\n",
    "# It is worth remembering that a string is an iterable and each character in it can be accessed via index\n",
    "\n",
    "count = {}.fromkeys(vowels,0)"
   ]
  },
  {
   "cell_type": "code",
   "execution_count": 13,
   "id": "08222ade-95f7-4840-94fb-ef00979ef7b0",
   "metadata": {},
   "outputs": [
    {
     "data": {
      "text/plain": [
       "{'a': 0, 'e': 0, 'i': 0, 'o': 0, 'u': 0}"
      ]
     },
     "execution_count": 13,
     "metadata": {},
     "output_type": "execute_result"
    }
   ],
   "source": [
    "# reads the count variable to the console\n",
    "\n",
    "count"
   ]
  },
  {
   "cell_type": "code",
   "execution_count": 14,
   "id": "18277286-4dc0-4e22-b064-4e832e430c7f",
   "metadata": {},
   "outputs": [],
   "source": [
    "# uses a for loop to iterate through each letter stored in the string final\n",
    "\n",
    "for letter in final:\n",
    "    \n",
    "    # Checks each letter to see if it a key in the dictionary count\n",
    "    \n",
    "    if letter in count:\n",
    "        \n",
    "        # If the letter is in count, then we add 1 to the value associated with the key (letter) that was found in the string\n",
    "        \n",
    "        count[letter] += 1"
   ]
  },
  {
   "cell_type": "code",
   "execution_count": 15,
   "id": "0cf694d7-7f55-4f10-9108-a4e30108348c",
   "metadata": {},
   "outputs": [
    {
     "data": {
      "text/plain": [
       "{'a': 19, 'e': 25, 'i': 14, 'o': 13, 'u': 5}"
      ]
     },
     "execution_count": 15,
     "metadata": {},
     "output_type": "execute_result"
    }
   ],
   "source": [
    "# displays the dictionary with the counts included\n",
    "\n",
    "count"
   ]
  },
  {
   "cell_type": "code",
   "execution_count": 16,
   "id": "ed1787ae-49a5-43d7-8245-0ea69d9c4180",
   "metadata": {},
   "outputs": [],
   "source": [
    "# Demo of how to use .split() to separate each statement in our string from above at '. '\n",
    "\n",
    "split_final = final.split('. ')"
   ]
  },
  {
   "cell_type": "code",
   "execution_count": 17,
   "id": "72f434ff-dac6-4c82-b7ef-c22df41a10f6",
   "metadata": {},
   "outputs": [
    {
     "data": {
      "text/plain": [
       "['Matt is a Code You student that is on a good path to picking up a new programming langauge',\n",
       " 'Matt would like to learn Python for improvement',\n",
       " 'In their free time Matt likes baseball',\n",
       " 'Matt believes Python can enhance their experience with baseball.']"
      ]
     },
     "execution_count": 17,
     "metadata": {},
     "output_type": "execute_result"
    }
   ],
   "source": [
    "# Prints the separated string as a list of strings\n",
    "\n",
    "split_final"
   ]
  },
  {
   "cell_type": "code",
   "execution_count": null,
   "id": "25a4770c-9ded-411b-8ca4-49b2afc7b838",
   "metadata": {},
   "outputs": [],
   "source": []
  }
 ],
 "metadata": {
  "kernelspec": {
   "display_name": "Python 3 (ipykernel)",
   "language": "python",
   "name": "python3"
  },
  "language_info": {
   "codemirror_mode": {
    "name": "ipython",
    "version": 3
   },
   "file_extension": ".py",
   "mimetype": "text/x-python",
   "name": "python",
   "nbconvert_exporter": "python",
   "pygments_lexer": "ipython3",
   "version": "3.11.7"
  }
 },
 "nbformat": 4,
 "nbformat_minor": 5
}
