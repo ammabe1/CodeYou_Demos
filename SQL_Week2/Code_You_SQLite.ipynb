{
 "cells": [
  {
   "cell_type": "code",
   "execution_count": 1,
   "id": "b7787a1a",
   "metadata": {},
   "outputs": [],
   "source": [
    "# Import pandas and sqlite3\n",
    "\n",
    "import pandas as pd\n",
    "import sqlite3"
   ]
  },
  {
   "cell_type": "markdown",
   "id": "163454b7",
   "metadata": {},
   "source": [
    "**https://data.louisvilleky.gov/**\n",
    "\n",
    "**https://data.louisvilleky.gov/datasets/a220289a40c945298d7f9d5c8dc7b3c0_0/explore**"
   ]
  },
  {
   "cell_type": "code",
   "execution_count": 2,
   "id": "12815d0f",
   "metadata": {},
   "outputs": [
    {
     "data": {
      "text/html": [
       "<div>\n",
       "<style scoped>\n",
       "    .dataframe tbody tr th:only-of-type {\n",
       "        vertical-align: middle;\n",
       "    }\n",
       "\n",
       "    .dataframe tbody tr th {\n",
       "        vertical-align: top;\n",
       "    }\n",
       "\n",
       "    .dataframe thead th {\n",
       "        text-align: right;\n",
       "    }\n",
       "</style>\n",
       "<table border=\"1\" class=\"dataframe\">\n",
       "  <thead>\n",
       "    <tr style=\"text-align: right;\">\n",
       "      <th></th>\n",
       "      <th>incident_number</th>\n",
       "      <th>date_reported</th>\n",
       "      <th>date_occurred</th>\n",
       "      <th>badge_id</th>\n",
       "      <th>offense_classification</th>\n",
       "      <th>offense_code_name</th>\n",
       "      <th>nibrs_code</th>\n",
       "      <th>nibrs_group_name</th>\n",
       "      <th>was_offense_completed</th>\n",
       "      <th>lmpd_division</th>\n",
       "      <th>lmpd_beat</th>\n",
       "      <th>location_category</th>\n",
       "      <th>block_address</th>\n",
       "      <th>city</th>\n",
       "      <th>zip_code</th>\n",
       "      <th>ObjectId</th>\n",
       "    </tr>\n",
       "  </thead>\n",
       "  <tbody>\n",
       "    <tr>\n",
       "      <th>0</th>\n",
       "      <td>LMPD24056997</td>\n",
       "      <td>2024/05/17 20:32:00+00</td>\n",
       "      <td>2024/04/14 21:49:00+00</td>\n",
       "      <td>5314.0</td>\n",
       "      <td>11 SIMPLE ASSAULT</td>\n",
       "      <td>ASSAULT - 4TH DEGREE (DOMESTIC VIOLENCE) MINOR...</td>\n",
       "      <td>13B</td>\n",
       "      <td>A</td>\n",
       "      <td>YES</td>\n",
       "      <td>7TH DIVISION</td>\n",
       "      <td>735</td>\n",
       "      <td>RESIDENCE/HOME</td>\n",
       "      <td>4600 BLOCK LOR ANN AVE</td>\n",
       "      <td>LOUISVILLE</td>\n",
       "      <td>40219</td>\n",
       "      <td>1</td>\n",
       "    </tr>\n",
       "    <tr>\n",
       "      <th>1</th>\n",
       "      <td>LMPD24054715</td>\n",
       "      <td>2024/05/11 12:37:00+00</td>\n",
       "      <td>2024/05/11 03:00:00+00</td>\n",
       "      <td>8358.0</td>\n",
       "      <td>21 THEFT FR VEH</td>\n",
       "      <td>TBUT OR DISP CONTENTS FROM VEH 514.030 24140 23F</td>\n",
       "      <td>23F</td>\n",
       "      <td>A</td>\n",
       "      <td>YES</td>\n",
       "      <td>7TH DIVISION</td>\n",
       "      <td>723</td>\n",
       "      <td>PARKING/ DROP LOT/ GARAGE</td>\n",
       "      <td>7600 BLOCK MOUNTAIN VIEW CIR</td>\n",
       "      <td>LOUISVILLE</td>\n",
       "      <td>40228</td>\n",
       "      <td>2</td>\n",
       "    </tr>\n",
       "    <tr>\n",
       "      <th>2</th>\n",
       "      <td>LMPD24056995</td>\n",
       "      <td>2024/05/17 20:19:00+00</td>\n",
       "      <td>2024/05/05 06:00:00+00</td>\n",
       "      <td>7166.0</td>\n",
       "      <td>9 AGGRAVATED ASSAULT</td>\n",
       "      <td>ASSAULT - 1ST DEGREE 508.010 13150 13A</td>\n",
       "      <td>13A</td>\n",
       "      <td>A</td>\n",
       "      <td>YES</td>\n",
       "      <td>3RD DIVISION</td>\n",
       "      <td>315</td>\n",
       "      <td>BAR/NIGHTCLUB</td>\n",
       "      <td>8200 BLOCK DIXIE HWY</td>\n",
       "      <td>LOUISVILLE</td>\n",
       "      <td>40202</td>\n",
       "      <td>3</td>\n",
       "    </tr>\n",
       "  </tbody>\n",
       "</table>\n",
       "</div>"
      ],
      "text/plain": [
       "  incident_number           date_reported           date_occurred  badge_id  \\\n",
       "0    LMPD24056997  2024/05/17 20:32:00+00  2024/04/14 21:49:00+00    5314.0   \n",
       "1    LMPD24054715  2024/05/11 12:37:00+00  2024/05/11 03:00:00+00    8358.0   \n",
       "2    LMPD24056995  2024/05/17 20:19:00+00  2024/05/05 06:00:00+00    7166.0   \n",
       "\n",
       "  offense_classification                                  offense_code_name  \\\n",
       "0      11 SIMPLE ASSAULT  ASSAULT - 4TH DEGREE (DOMESTIC VIOLENCE) MINOR...   \n",
       "1        21 THEFT FR VEH   TBUT OR DISP CONTENTS FROM VEH 514.030 24140 23F   \n",
       "2   9 AGGRAVATED ASSAULT             ASSAULT - 1ST DEGREE 508.010 13150 13A   \n",
       "\n",
       "  nibrs_code nibrs_group_name was_offense_completed lmpd_division lmpd_beat  \\\n",
       "0        13B                A                   YES  7TH DIVISION       735   \n",
       "1        23F                A                   YES  7TH DIVISION       723   \n",
       "2        13A                A                   YES  3RD DIVISION       315   \n",
       "\n",
       "           location_category                 block_address        city  \\\n",
       "0             RESIDENCE/HOME        4600 BLOCK LOR ANN AVE  LOUISVILLE   \n",
       "1  PARKING/ DROP LOT/ GARAGE  7600 BLOCK MOUNTAIN VIEW CIR  LOUISVILLE   \n",
       "2              BAR/NIGHTCLUB          8200 BLOCK DIXIE HWY  LOUISVILLE   \n",
       "\n",
       "  zip_code  ObjectId  \n",
       "0    40219         1  \n",
       "1    40228         2  \n",
       "2    40202         3  "
      ]
     },
     "execution_count": 2,
     "metadata": {},
     "output_type": "execute_result"
    }
   ],
   "source": [
    "# Create a dataframe from the .csv obtained from the address above\n",
    "\n",
    "data = pd.read_csv('Louisville_Metro_KY_-_Crime_Data_2024.csv')\n",
    "\n",
    "data.head(3)"
   ]
  },
  {
   "cell_type": "code",
   "execution_count": 3,
   "id": "05155d2b",
   "metadata": {},
   "outputs": [],
   "source": [
    "# Overwrite was_offense_completed column with 1,0 versions of the given 'Boolean' 'YES':'NO'\n",
    "\n",
    "data['was_offense_completed'] = data.was_offense_completed.map({'YES':1, 'NO':0})"
   ]
  },
  {
   "cell_type": "code",
   "execution_count": 4,
   "id": "88347104",
   "metadata": {},
   "outputs": [],
   "source": [
    "# Rename ID column to a format more friendly to our SQL conversion\n",
    "\n",
    "data = data.rename(columns={'ObjectId':'object_id'})"
   ]
  },
  {
   "cell_type": "code",
   "execution_count": 5,
   "id": "ddc9f8bb",
   "metadata": {},
   "outputs": [],
   "source": [
    "# Isolate dates and times into separate columns from the string 'datetime' values given in the .csv for both date_reported and\n",
    "# date_occurred\n",
    "\n",
    "# Coerce the values in date_reported into proper datetime objects\n",
    "\n",
    "data['date_reported'] = pd.to_datetime(data['date_reported'])\n",
    "\n",
    "# Isolate the time portion of date_reported and save it to the 'time_reported' column\n",
    "\n",
    "data['time_reported'] = data['date_reported'].dt.time\n",
    "\n",
    "# Isolate the date portion of date_reported and save it to the 'date_reported' column\n",
    "\n",
    "data['date_reported'] = data['date_reported'].dt.date\n",
    "\n",
    "# Coerce the values in date_occurred into proper datetime objects\n",
    "\n",
    "data['date_occurred'] = pd.to_datetime(data['date_occurred'])\n",
    "\n",
    "# Isolate the time portion of date_occurred and save it to the 'time_occurred' column\n",
    "\n",
    "data['time_occurred'] = data['date_occurred'].dt.time\n",
    "\n",
    "# Isolate the date portion of date_occurred and save it to the 'date_occurred' column\n",
    "\n",
    "data['date_occurred'] = data['date_occurred'].dt.date"
   ]
  },
  {
   "cell_type": "code",
   "execution_count": 6,
   "id": "176dca16",
   "metadata": {},
   "outputs": [],
   "source": [
    "# Rearrange column names into the desired order\n",
    "\n",
    "data = data.reindex(columns=['object_id', 'incident_number', 'date_reported', 'time_reported','date_occurred', 'time_occurred', \n",
    "                         'badge_id', 'offense_classification', 'offense_code_name', 'nibrs_code', 'nibrs_group_name', \n",
    "                         'was_offense_completed', 'lmpd_division', 'lmpd_beat', 'location_category', 'block_address', \n",
    "                         'city', 'zip_code'])"
   ]
  },
  {
   "cell_type": "code",
   "execution_count": 7,
   "id": "4e08b96e",
   "metadata": {},
   "outputs": [
    {
     "data": {
      "text/plain": [
       "array(['40219', '40228', '40202', '40291', '40214', '40258', '40208',\n",
       "       '40241', '40059', '40204', '40216', '40213', '40245', '40212',\n",
       "       '40272', '40118', '40206', '40218', '40210', '40211', '40203',\n",
       "       '40222', '40229', '40220', '40209', '40215', '40205', '40217',\n",
       "       '40223', '40299', '40018', '40207', '40023', '40243', nan, '99999',\n",
       "       '40242', '40241 0000', '40241-0000', '40177', '40508',\n",
       "       '40245 0000', '40258 0000', '40233', '402120000', '47130',\n",
       "       '402190000', '40206 0000', '40218 0000', '40206-0000',\n",
       "       '40208 0000', '40041', '40292', '40215 0000', '40216 0000',\n",
       "       '40214 0000', '30349', '40291-0000', '40215-0000', '40203 0000',\n",
       "       '40211 0000', '40213-0000', '40025', '40225', '40272 0000',\n",
       "       '402140000', '40291 0000', '40212-0000', '40165', '40210 0000',\n",
       "       '40219 0000', '40212 0000', '40205 0000', '40214-0000',\n",
       "       '40229-0000', '402130000', '40118-0000', '40204-0000',\n",
       "       '40229 0000', '47150', '40242 0000', '402580000', '40219-0000',\n",
       "       '46220', '41031', '42728', '40228 0000', '40213 0000',\n",
       "       '40205-0000', '40211-0000', '402220000', '40203-0000',\n",
       "       '40216-0000', '40014'], dtype=object)"
      ]
     },
     "execution_count": 7,
     "metadata": {},
     "output_type": "execute_result"
    }
   ],
   "source": [
    "# Return all unique values from the zip_code column. Note not all values are 5 digit zip codes, but a variety of formats\n",
    "\n",
    "data['zip_code'].unique()"
   ]
  },
  {
   "cell_type": "code",
   "execution_count": 8,
   "id": "b46f9521",
   "metadata": {},
   "outputs": [],
   "source": [
    "# Overwrite the zip_code column with the first 5 characters of the previous value as a string\n",
    "\n",
    "data['zip_code'] = data['zip_code'].str[:5]"
   ]
  },
  {
   "cell_type": "code",
   "execution_count": 9,
   "id": "4764fe9f",
   "metadata": {},
   "outputs": [
    {
     "data": {
      "text/plain": [
       "array(['40219', '40228', '40202', '40291', '40214', '40258', '40208',\n",
       "       '40241', '40059', '40204', '40216', '40213', '40245', '40212',\n",
       "       '40272', '40118', '40206', '40218', '40210', '40211', '40203',\n",
       "       '40222', '40229', '40220', '40209', '40215', '40205', '40217',\n",
       "       '40223', '40299', '40018', '40207', '40023', '40243', nan, '99999',\n",
       "       '40242', '40177', '40508', '40233', '47130', '40041', '40292',\n",
       "       '30349', '40025', '40225', '40165', '47150', '46220', '41031',\n",
       "       '42728', '40014'], dtype=object)"
      ]
     },
     "execution_count": 9,
     "metadata": {},
     "output_type": "execute_result"
    }
   ],
   "source": [
    "# Confirm that we have properly coerced 5 digit zip codes\n",
    "\n",
    "data['zip_code'].unique()"
   ]
  },
  {
   "cell_type": "code",
   "execution_count": 10,
   "id": "54b1168d",
   "metadata": {},
   "outputs": [
    {
     "data": {
      "text/html": [
       "<div>\n",
       "<style scoped>\n",
       "    .dataframe tbody tr th:only-of-type {\n",
       "        vertical-align: middle;\n",
       "    }\n",
       "\n",
       "    .dataframe tbody tr th {\n",
       "        vertical-align: top;\n",
       "    }\n",
       "\n",
       "    .dataframe thead th {\n",
       "        text-align: right;\n",
       "    }\n",
       "</style>\n",
       "<table border=\"1\" class=\"dataframe\">\n",
       "  <thead>\n",
       "    <tr style=\"text-align: right;\">\n",
       "      <th></th>\n",
       "      <th>object_id</th>\n",
       "      <th>incident_number</th>\n",
       "      <th>date_reported</th>\n",
       "      <th>time_reported</th>\n",
       "      <th>date_occurred</th>\n",
       "      <th>time_occurred</th>\n",
       "      <th>badge_id</th>\n",
       "      <th>offense_classification</th>\n",
       "      <th>offense_code_name</th>\n",
       "      <th>nibrs_code</th>\n",
       "      <th>nibrs_group_name</th>\n",
       "      <th>was_offense_completed</th>\n",
       "      <th>lmpd_division</th>\n",
       "      <th>lmpd_beat</th>\n",
       "      <th>location_category</th>\n",
       "      <th>block_address</th>\n",
       "      <th>city</th>\n",
       "      <th>zip_code</th>\n",
       "    </tr>\n",
       "  </thead>\n",
       "  <tbody>\n",
       "    <tr>\n",
       "      <th>0</th>\n",
       "      <td>1</td>\n",
       "      <td>LMPD24056997</td>\n",
       "      <td>2024-05-17</td>\n",
       "      <td>20:32:00</td>\n",
       "      <td>2024-04-14</td>\n",
       "      <td>21:49:00</td>\n",
       "      <td>5314.0</td>\n",
       "      <td>11 SIMPLE ASSAULT</td>\n",
       "      <td>ASSAULT - 4TH DEGREE (DOMESTIC VIOLENCE) MINOR...</td>\n",
       "      <td>13B</td>\n",
       "      <td>A</td>\n",
       "      <td>1</td>\n",
       "      <td>7TH DIVISION</td>\n",
       "      <td>735</td>\n",
       "      <td>RESIDENCE/HOME</td>\n",
       "      <td>4600 BLOCK LOR ANN AVE</td>\n",
       "      <td>LOUISVILLE</td>\n",
       "      <td>40219</td>\n",
       "    </tr>\n",
       "    <tr>\n",
       "      <th>1</th>\n",
       "      <td>2</td>\n",
       "      <td>LMPD24054715</td>\n",
       "      <td>2024-05-11</td>\n",
       "      <td>12:37:00</td>\n",
       "      <td>2024-05-11</td>\n",
       "      <td>03:00:00</td>\n",
       "      <td>8358.0</td>\n",
       "      <td>21 THEFT FR VEH</td>\n",
       "      <td>TBUT OR DISP CONTENTS FROM VEH 514.030 24140 23F</td>\n",
       "      <td>23F</td>\n",
       "      <td>A</td>\n",
       "      <td>1</td>\n",
       "      <td>7TH DIVISION</td>\n",
       "      <td>723</td>\n",
       "      <td>PARKING/ DROP LOT/ GARAGE</td>\n",
       "      <td>7600 BLOCK MOUNTAIN VIEW CIR</td>\n",
       "      <td>LOUISVILLE</td>\n",
       "      <td>40228</td>\n",
       "    </tr>\n",
       "    <tr>\n",
       "      <th>2</th>\n",
       "      <td>3</td>\n",
       "      <td>LMPD24056995</td>\n",
       "      <td>2024-05-17</td>\n",
       "      <td>20:19:00</td>\n",
       "      <td>2024-05-05</td>\n",
       "      <td>06:00:00</td>\n",
       "      <td>7166.0</td>\n",
       "      <td>9 AGGRAVATED ASSAULT</td>\n",
       "      <td>ASSAULT - 1ST DEGREE 508.010 13150 13A</td>\n",
       "      <td>13A</td>\n",
       "      <td>A</td>\n",
       "      <td>1</td>\n",
       "      <td>3RD DIVISION</td>\n",
       "      <td>315</td>\n",
       "      <td>BAR/NIGHTCLUB</td>\n",
       "      <td>8200 BLOCK DIXIE HWY</td>\n",
       "      <td>LOUISVILLE</td>\n",
       "      <td>40202</td>\n",
       "    </tr>\n",
       "  </tbody>\n",
       "</table>\n",
       "</div>"
      ],
      "text/plain": [
       "   object_id incident_number date_reported time_reported date_occurred  \\\n",
       "0          1    LMPD24056997    2024-05-17      20:32:00    2024-04-14   \n",
       "1          2    LMPD24054715    2024-05-11      12:37:00    2024-05-11   \n",
       "2          3    LMPD24056995    2024-05-17      20:19:00    2024-05-05   \n",
       "\n",
       "  time_occurred  badge_id offense_classification  \\\n",
       "0      21:49:00    5314.0      11 SIMPLE ASSAULT   \n",
       "1      03:00:00    8358.0        21 THEFT FR VEH   \n",
       "2      06:00:00    7166.0   9 AGGRAVATED ASSAULT   \n",
       "\n",
       "                                   offense_code_name nibrs_code  \\\n",
       "0  ASSAULT - 4TH DEGREE (DOMESTIC VIOLENCE) MINOR...        13B   \n",
       "1   TBUT OR DISP CONTENTS FROM VEH 514.030 24140 23F        23F   \n",
       "2             ASSAULT - 1ST DEGREE 508.010 13150 13A        13A   \n",
       "\n",
       "  nibrs_group_name  was_offense_completed lmpd_division lmpd_beat  \\\n",
       "0                A                      1  7TH DIVISION       735   \n",
       "1                A                      1  7TH DIVISION       723   \n",
       "2                A                      1  3RD DIVISION       315   \n",
       "\n",
       "           location_category                 block_address        city  \\\n",
       "0             RESIDENCE/HOME        4600 BLOCK LOR ANN AVE  LOUISVILLE   \n",
       "1  PARKING/ DROP LOT/ GARAGE  7600 BLOCK MOUNTAIN VIEW CIR  LOUISVILLE   \n",
       "2              BAR/NIGHTCLUB          8200 BLOCK DIXIE HWY  LOUISVILLE   \n",
       "\n",
       "  zip_code  \n",
       "0    40219  \n",
       "1    40228  \n",
       "2    40202  "
      ]
     },
     "execution_count": 10,
     "metadata": {},
     "output_type": "execute_result"
    }
   ],
   "source": [
    "# Inspect the DataFrame to confirm that our transformations have executed as expected\n",
    "\n",
    "data.head(3)"
   ]
  },
  {
   "cell_type": "code",
   "execution_count": 11,
   "id": "b32cce94",
   "metadata": {},
   "outputs": [
    {
     "data": {
      "text/plain": [
       "<sqlite3.Cursor at 0x19618a938c0>"
      ]
     },
     "execution_count": 11,
     "metadata": {},
     "output_type": "execute_result"
    }
   ],
   "source": [
    "#Open connection and drop tables if it exist (from previous runs)\n",
    "\n",
    "conn = sqlite3.connect('crime.db')\n",
    "\n",
    "# Drop Crime table if exists\n",
    "\n",
    "conn.execute('DROP TABLE IF EXISTS CRIME')\n",
    "\n",
    "# Drop Date table if exists\n",
    "\n",
    "conn.execute('DROP TABLE IF EXISTS DATE')\n",
    "\n",
    "# Drop Officer table if exists\n",
    "\n",
    "conn.execute('DROP TABLE IF EXISTS OFFICER')\n",
    "\n",
    "# Drop Location table if exists\n",
    "\n",
    "conn.execute('DROP TABLE IF EXISTS LOCATION')"
   ]
  },
  {
   "cell_type": "markdown",
   "id": "69539226",
   "metadata": {},
   "source": [
    "**https://www.sqlite.org/datatype3.html**"
   ]
  },
  {
   "cell_type": "code",
   "execution_count": 12,
   "id": "a8e791d3",
   "metadata": {},
   "outputs": [
    {
     "data": {
      "text/plain": [
       "<sqlite3.Cursor at 0x19618a93740>"
      ]
     },
     "execution_count": 12,
     "metadata": {},
     "output_type": "execute_result"
    }
   ],
   "source": [
    "# Use connection to create a table CRIME to store a subset of the data from our .csv\n",
    "\n",
    "conn.execute('''\n",
    "         CREATE TABLE IF NOT EXISTS CRIME \n",
    "         (OBJECT_ID INT PRIMARY KEY NOT NULL,\n",
    "         INCIDENT_NUMBER TEXT,\n",
    "         OFFENSE_CLASSIFICATION TEXT,\n",
    "         OFFENSE_CODE_NAME TEXT,\n",
    "         NIBRS_CODE TEXT,\n",
    "         NIBRS_GROUP_NAME TEXT,\n",
    "         WAS_OFFENSE_COMPLETED INT);''')"
   ]
  },
  {
   "cell_type": "code",
   "execution_count": 13,
   "id": "9fd04546",
   "metadata": {},
   "outputs": [
    {
     "data": {
      "text/plain": [
       "<sqlite3.Cursor at 0x19618a91ec0>"
      ]
     },
     "execution_count": 13,
     "metadata": {},
     "output_type": "execute_result"
    }
   ],
   "source": [
    "# Use connection to create a table DATE to store a subset of the data from our .csv\n",
    "\n",
    "conn.execute('''\n",
    "        CREATE TABLE IF NOT EXISTS DATE\n",
    "        (DATE_ID INTEGER PRIMARY KEY AUTOINCREMENT,\n",
    "        DATE_REPORTED TEXT,\n",
    "        TIME_REPORTED TEXT,\n",
    "        DATE_OCCURRED TEXT,\n",
    "        TIME_OCCURRED TEXT,\n",
    "        OBJECT_ID INT,\n",
    "        FOREIGN KEY (OBJECT_ID) REFERENCES CRIME (OBJECT_ID))\n",
    "        ''')"
   ]
  },
  {
   "cell_type": "code",
   "execution_count": 14,
   "id": "7b07204d",
   "metadata": {},
   "outputs": [
    {
     "data": {
      "text/plain": [
       "<sqlite3.Cursor at 0x19618a93d40>"
      ]
     },
     "execution_count": 14,
     "metadata": {},
     "output_type": "execute_result"
    }
   ],
   "source": [
    "# Use connection to create a table OFFICER to store a subset of the data from our .csv\n",
    "\n",
    "conn.execute('''\n",
    "        CREATE TABLE IF NOT EXISTS OFFICER\n",
    "        (OFFICER_ID INTEGER PRIMARY KEY AUTOINCREMENT,\n",
    "        BADGE_ID INT,\n",
    "        LMPD_DIVISION TEXT,\n",
    "        LMPD_BEAT INT,\n",
    "        OBJECT_ID INT,\n",
    "        FOREIGN KEY (OBJECT_ID) REFERENCES CRIME (OBJECT_ID))\n",
    "        ''')"
   ]
  },
  {
   "cell_type": "code",
   "execution_count": 15,
   "id": "c46a4f18",
   "metadata": {},
   "outputs": [
    {
     "data": {
      "text/plain": [
       "<sqlite3.Cursor at 0x19618a900c0>"
      ]
     },
     "execution_count": 15,
     "metadata": {},
     "output_type": "execute_result"
    }
   ],
   "source": [
    "# Use connection to create a table LOCATION to store a subset of the data from our .csv\n",
    "\n",
    "conn.execute('''\n",
    "        CREATE TABLE IF NOT EXISTS LOCATION\n",
    "        (LOCATION_ID INTEGER PRIMARY KEY AUTOINCREMENT,\n",
    "        LOCATION_CATEGORY TEXT,\n",
    "        BLOCK_ADDRESS TEXT,\n",
    "        CITY TEXT,\n",
    "        ZIP_CODE INT,\n",
    "        OBJECT_ID INT,\n",
    "        FOREIGN KEY (OBJECT_ID) REFERENCES CRIME (OBJECT_ID))\n",
    "        ''')"
   ]
  },
  {
   "cell_type": "code",
   "execution_count": 16,
   "id": "bee265b4",
   "metadata": {},
   "outputs": [
    {
     "data": {
      "text/plain": [
       "22904"
      ]
     },
     "execution_count": 16,
     "metadata": {},
     "output_type": "execute_result"
    }
   ],
   "source": [
    "# Use our DataFrame to push a subset of the data it contains to the CRIME table that we just created \n",
    "\n",
    "data[['object_id', 'incident_number', 'offense_classification', 'offense_code_name', 'nibrs_code', 'nibrs_group_name', \n",
    "     'was_offense_completed']].to_sql(\"CRIME\", conn, if_exists='append', index=False)"
   ]
  },
  {
   "cell_type": "code",
   "execution_count": 17,
   "id": "2bf9ab90",
   "metadata": {},
   "outputs": [
    {
     "data": {
      "text/plain": [
       "22904"
      ]
     },
     "execution_count": 17,
     "metadata": {},
     "output_type": "execute_result"
    }
   ],
   "source": [
    "# Use our DataFrame to push a subset of the data it contains to the DATE table that we just created  \n",
    "\n",
    "data[['object_id', 'date_reported', 'time_reported', 'date_occurred', 'time_occurred']].to_sql(\"DATE\", conn, \n",
    "                                                                                               if_exists='append', index=False)"
   ]
  },
  {
   "cell_type": "code",
   "execution_count": 18,
   "id": "f7c57433",
   "metadata": {},
   "outputs": [
    {
     "data": {
      "text/plain": [
       "22904"
      ]
     },
     "execution_count": 18,
     "metadata": {},
     "output_type": "execute_result"
    }
   ],
   "source": [
    "# Use our DataFrame to push a subset of the data it contains to the OFFICER table that we just created \n",
    "\n",
    "data[['object_id', 'badge_id', 'lmpd_division', 'lmpd_beat']].to_sql(\"OFFICER\", conn, \n",
    "                                                                                               if_exists='append', index=False)"
   ]
  },
  {
   "cell_type": "code",
   "execution_count": 19,
   "id": "f19964e5",
   "metadata": {},
   "outputs": [
    {
     "data": {
      "text/plain": [
       "22904"
      ]
     },
     "execution_count": 19,
     "metadata": {},
     "output_type": "execute_result"
    }
   ],
   "source": [
    "# Use our DataFrame to push a subset of the data it contains to the LOCATION table that we just created \n",
    "\n",
    "data[['object_id', 'location_category', 'block_address', 'city', 'zip_code']].to_sql(\"LOCATION\", conn, \n",
    "                                                                                               if_exists='append', index=False)"
   ]
  },
  {
   "cell_type": "markdown",
   "id": "eb5e543b",
   "metadata": {},
   "source": [
    "# To browse this database I've downloaded a tool from:\n",
    "\n",
    "**https://sqlitebrowser.org/**"
   ]
  },
  {
   "cell_type": "code",
   "execution_count": 20,
   "id": "88393f7b",
   "metadata": {},
   "outputs": [],
   "source": [
    "# Create a query to isolate crime data for the zip code 40202 limited to 100 rows\n",
    "\n",
    "query_40202 = \"\"\"SELECT CRIME.OBJECT_ID, DATE.DATE_OCCURRED, CRIME.OFFENSE_CLASSIFICATION, LOCATION.ZIP_CODE, \n",
    "                 LOCATION.BLOCK_ADDRESS, OFFICER.BADGE_ID\n",
    "                 FROM CRIME \n",
    "                 INNER JOIN DATE ON CRIME.OBJECT_ID = DATE.OBJECT_ID \n",
    "                 INNER JOIN OFFICER ON CRIME.OBJECT_ID = OFFICER.OBJECT_ID\n",
    "                 INNER JOIN LOCATION ON CRIME.OBJECT_ID = LOCATION.OBJECT_ID\n",
    "                 WHERE ZIP_CODE = 40202 LIMIT 100\"\"\""
   ]
  },
  {
   "cell_type": "code",
   "execution_count": 21,
   "id": "be8c3014",
   "metadata": {},
   "outputs": [],
   "source": [
    "# Utilize pd.read_sql_query to execute the query passing our query_40202 variable as a string and the connection object to the\n",
    "# database file\n",
    "\n",
    "df_40202 = pd.read_sql_query(query_40202, conn)"
   ]
  },
  {
   "cell_type": "code",
   "execution_count": 22,
   "id": "f029abd5",
   "metadata": {},
   "outputs": [
    {
     "data": {
      "text/html": [
       "<div>\n",
       "<style scoped>\n",
       "    .dataframe tbody tr th:only-of-type {\n",
       "        vertical-align: middle;\n",
       "    }\n",
       "\n",
       "    .dataframe tbody tr th {\n",
       "        vertical-align: top;\n",
       "    }\n",
       "\n",
       "    .dataframe thead th {\n",
       "        text-align: right;\n",
       "    }\n",
       "</style>\n",
       "<table border=\"1\" class=\"dataframe\">\n",
       "  <thead>\n",
       "    <tr style=\"text-align: right;\">\n",
       "      <th></th>\n",
       "      <th>OBJECT_ID</th>\n",
       "      <th>DATE_OCCURRED</th>\n",
       "      <th>OFFENSE_CLASSIFICATION</th>\n",
       "      <th>ZIP_CODE</th>\n",
       "      <th>BLOCK_ADDRESS</th>\n",
       "      <th>BADGE_ID</th>\n",
       "    </tr>\n",
       "  </thead>\n",
       "  <tbody>\n",
       "    <tr>\n",
       "      <th>0</th>\n",
       "      <td>3</td>\n",
       "      <td>2024-05-05</td>\n",
       "      <td>9 AGGRAVATED ASSAULT</td>\n",
       "      <td>40202</td>\n",
       "      <td>8200 BLOCK DIXIE HWY</td>\n",
       "      <td>7166</td>\n",
       "    </tr>\n",
       "    <tr>\n",
       "      <th>1</th>\n",
       "      <td>82</td>\n",
       "      <td>2024-05-11</td>\n",
       "      <td>8 ROBBERY</td>\n",
       "      <td>40202</td>\n",
       "      <td>700 BLOCK MARSHALL ST</td>\n",
       "      <td>5512</td>\n",
       "    </tr>\n",
       "    <tr>\n",
       "      <th>2</th>\n",
       "      <td>89</td>\n",
       "      <td>2024-05-11</td>\n",
       "      <td>56 ALL OTHER OFFENSES</td>\n",
       "      <td>40202</td>\n",
       "      <td>400 BLOCK S 3RD ST</td>\n",
       "      <td>5407</td>\n",
       "    </tr>\n",
       "    <tr>\n",
       "      <th>3</th>\n",
       "      <td>90</td>\n",
       "      <td>2024-05-11</td>\n",
       "      <td>51 DISORDERLY CONDUCT</td>\n",
       "      <td>40202</td>\n",
       "      <td>300 BLOCK W MUHAMMAD ALI BLVD</td>\n",
       "      <td>5407</td>\n",
       "    </tr>\n",
       "    <tr>\n",
       "      <th>4</th>\n",
       "      <td>91</td>\n",
       "      <td>2024-05-11</td>\n",
       "      <td>52 DRUNKENNESS</td>\n",
       "      <td>40202</td>\n",
       "      <td>400 BLOCK S 3RD ST</td>\n",
       "      <td>5407</td>\n",
       "    </tr>\n",
       "    <tr>\n",
       "      <th>...</th>\n",
       "      <td>...</td>\n",
       "      <td>...</td>\n",
       "      <td>...</td>\n",
       "      <td>...</td>\n",
       "      <td>...</td>\n",
       "      <td>...</td>\n",
       "    </tr>\n",
       "    <tr>\n",
       "      <th>95</th>\n",
       "      <td>1926</td>\n",
       "      <td>2024-05-03</td>\n",
       "      <td>24 VANDALISM</td>\n",
       "      <td>40202</td>\n",
       "      <td>800 BLOCK W BROADWAY</td>\n",
       "      <td>8173</td>\n",
       "    </tr>\n",
       "    <tr>\n",
       "      <th>96</th>\n",
       "      <td>1931</td>\n",
       "      <td>2024-05-03</td>\n",
       "      <td>21 THEFT FR VEH</td>\n",
       "      <td>40202</td>\n",
       "      <td>500 BLOCK W BROADWAY</td>\n",
       "      <td>8620</td>\n",
       "    </tr>\n",
       "    <tr>\n",
       "      <th>97</th>\n",
       "      <td>1947</td>\n",
       "      <td>2024-05-03</td>\n",
       "      <td>19 THEFT FR BLDG</td>\n",
       "      <td>40202</td>\n",
       "      <td>400 BLOCK W MARKET ST</td>\n",
       "      <td>8515</td>\n",
       "    </tr>\n",
       "    <tr>\n",
       "      <th>98</th>\n",
       "      <td>1951</td>\n",
       "      <td>2024-05-02</td>\n",
       "      <td>12 INTIMIDATION</td>\n",
       "      <td>40202</td>\n",
       "      <td>400 BLOCK S 2ND ST</td>\n",
       "      <td>5135</td>\n",
       "    </tr>\n",
       "    <tr>\n",
       "      <th>99</th>\n",
       "      <td>1973</td>\n",
       "      <td>2024-05-02</td>\n",
       "      <td>24 VANDALISM</td>\n",
       "      <td>40202</td>\n",
       "      <td>400 BLOCK S 2ND ST</td>\n",
       "      <td>5135</td>\n",
       "    </tr>\n",
       "  </tbody>\n",
       "</table>\n",
       "<p>100 rows × 6 columns</p>\n",
       "</div>"
      ],
      "text/plain": [
       "    OBJECT_ID DATE_OCCURRED OFFENSE_CLASSIFICATION  ZIP_CODE  \\\n",
       "0           3    2024-05-05   9 AGGRAVATED ASSAULT     40202   \n",
       "1          82    2024-05-11              8 ROBBERY     40202   \n",
       "2          89    2024-05-11  56 ALL OTHER OFFENSES     40202   \n",
       "3          90    2024-05-11  51 DISORDERLY CONDUCT     40202   \n",
       "4          91    2024-05-11         52 DRUNKENNESS     40202   \n",
       "..        ...           ...                    ...       ...   \n",
       "95       1926    2024-05-03           24 VANDALISM     40202   \n",
       "96       1931    2024-05-03        21 THEFT FR VEH     40202   \n",
       "97       1947    2024-05-03       19 THEFT FR BLDG     40202   \n",
       "98       1951    2024-05-02        12 INTIMIDATION     40202   \n",
       "99       1973    2024-05-02           24 VANDALISM     40202   \n",
       "\n",
       "                    BLOCK_ADDRESS  BADGE_ID  \n",
       "0            8200 BLOCK DIXIE HWY      7166  \n",
       "1           700 BLOCK MARSHALL ST      5512  \n",
       "2              400 BLOCK S 3RD ST      5407  \n",
       "3   300 BLOCK W MUHAMMAD ALI BLVD      5407  \n",
       "4              400 BLOCK S 3RD ST      5407  \n",
       "..                            ...       ...  \n",
       "95           800 BLOCK W BROADWAY      8173  \n",
       "96           500 BLOCK W BROADWAY      8620  \n",
       "97          400 BLOCK W MARKET ST      8515  \n",
       "98             400 BLOCK S 2ND ST      5135  \n",
       "99             400 BLOCK S 2ND ST      5135  \n",
       "\n",
       "[100 rows x 6 columns]"
      ]
     },
     "execution_count": 22,
     "metadata": {},
     "output_type": "execute_result"
    }
   ],
   "source": [
    "# Inspect the DataFrame to ensure this has worked as expected\n",
    "\n",
    "df_40202"
   ]
  },
  {
   "cell_type": "code",
   "execution_count": 23,
   "id": "09821797",
   "metadata": {},
   "outputs": [
    {
     "data": {
      "text/html": [
       "<div>\n",
       "<style scoped>\n",
       "    .dataframe tbody tr th:only-of-type {\n",
       "        vertical-align: middle;\n",
       "    }\n",
       "\n",
       "    .dataframe tbody tr th {\n",
       "        vertical-align: top;\n",
       "    }\n",
       "\n",
       "    .dataframe thead th {\n",
       "        text-align: right;\n",
       "    }\n",
       "</style>\n",
       "<table border=\"1\" class=\"dataframe\">\n",
       "  <thead>\n",
       "    <tr style=\"text-align: right;\">\n",
       "      <th></th>\n",
       "      <th>OBJECT_ID</th>\n",
       "      <th>INCIDENT_NUMBER</th>\n",
       "      <th>OFFENSE_CLASSIFICATION</th>\n",
       "      <th>OFFENSE_CODE_NAME</th>\n",
       "      <th>NIBRS_CODE</th>\n",
       "      <th>NIBRS_GROUP_NAME</th>\n",
       "      <th>WAS_OFFENSE_COMPLETED</th>\n",
       "    </tr>\n",
       "  </thead>\n",
       "  <tbody>\n",
       "    <tr>\n",
       "      <th>0</th>\n",
       "      <td>1</td>\n",
       "      <td>LMPD24056997</td>\n",
       "      <td>11 SIMPLE ASSAULT</td>\n",
       "      <td>ASSAULT - 4TH DEGREE (DOMESTIC VIOLENCE) MINOR...</td>\n",
       "      <td>13B</td>\n",
       "      <td>A</td>\n",
       "      <td>1</td>\n",
       "    </tr>\n",
       "    <tr>\n",
       "      <th>1</th>\n",
       "      <td>2</td>\n",
       "      <td>LMPD24054715</td>\n",
       "      <td>21 THEFT FR VEH</td>\n",
       "      <td>TBUT OR DISP CONTENTS FROM VEH 514.030 24140 23F</td>\n",
       "      <td>23F</td>\n",
       "      <td>A</td>\n",
       "      <td>1</td>\n",
       "    </tr>\n",
       "    <tr>\n",
       "      <th>2</th>\n",
       "      <td>3</td>\n",
       "      <td>LMPD24056995</td>\n",
       "      <td>9 AGGRAVATED ASSAULT</td>\n",
       "      <td>ASSAULT - 1ST DEGREE 508.010 13150 13A</td>\n",
       "      <td>13A</td>\n",
       "      <td>A</td>\n",
       "      <td>1</td>\n",
       "    </tr>\n",
       "    <tr>\n",
       "      <th>3</th>\n",
       "      <td>4</td>\n",
       "      <td>LMPD24056921</td>\n",
       "      <td>28 FRAUD CREDIT CARD/ATM</td>\n",
       "      <td>FRAUDULENT USE OF A CREDIT CARD $500 &lt; $1000 4...</td>\n",
       "      <td>26B</td>\n",
       "      <td>A</td>\n",
       "      <td>1</td>\n",
       "    </tr>\n",
       "    <tr>\n",
       "      <th>4</th>\n",
       "      <td>5</td>\n",
       "      <td>LMPD24054714</td>\n",
       "      <td>21 THEFT FR VEH</td>\n",
       "      <td>TBUT OR DISP CONTENTS FROM VEH 514.030 24140 23F</td>\n",
       "      <td>23F</td>\n",
       "      <td>A</td>\n",
       "      <td>0</td>\n",
       "    </tr>\n",
       "  </tbody>\n",
       "</table>\n",
       "</div>"
      ],
      "text/plain": [
       "   OBJECT_ID INCIDENT_NUMBER    OFFENSE_CLASSIFICATION  \\\n",
       "0          1    LMPD24056997         11 SIMPLE ASSAULT   \n",
       "1          2    LMPD24054715           21 THEFT FR VEH   \n",
       "2          3    LMPD24056995      9 AGGRAVATED ASSAULT   \n",
       "3          4    LMPD24056921  28 FRAUD CREDIT CARD/ATM   \n",
       "4          5    LMPD24054714           21 THEFT FR VEH   \n",
       "\n",
       "                                   OFFENSE_CODE_NAME NIBRS_CODE  \\\n",
       "0  ASSAULT - 4TH DEGREE (DOMESTIC VIOLENCE) MINOR...        13B   \n",
       "1   TBUT OR DISP CONTENTS FROM VEH 514.030 24140 23F        23F   \n",
       "2             ASSAULT - 1ST DEGREE 508.010 13150 13A        13A   \n",
       "3  FRAUDULENT USE OF A CREDIT CARD $500 < $1000 4...        26B   \n",
       "4   TBUT OR DISP CONTENTS FROM VEH 514.030 24140 23F        23F   \n",
       "\n",
       "  NIBRS_GROUP_NAME  WAS_OFFENSE_COMPLETED  \n",
       "0                A                      1  \n",
       "1                A                      1  \n",
       "2                A                      1  \n",
       "3                A                      1  \n",
       "4                A                      0  "
      ]
     },
     "execution_count": 23,
     "metadata": {},
     "output_type": "execute_result"
    }
   ],
   "source": [
    "# Create a query to return the first 5 rows from the database file\n",
    "\n",
    "query_all = \"SELECT * FROM CRIME LIMIT 5\"\n",
    "\n",
    "# Read our query into a DataFrame\n",
    "\n",
    "data_peek = pd.read_sql_query(query_all, conn)\n",
    "\n",
    "# Inspect our CRIME table\n",
    "\n",
    "data_peek"
   ]
  },
  {
   "cell_type": "code",
   "execution_count": 24,
   "id": "b9d345af",
   "metadata": {},
   "outputs": [],
   "source": [
    "# Close our connection to the database to prevent database locking \n",
    "\n",
    "conn.close()"
   ]
  },
  {
   "cell_type": "code",
   "execution_count": null,
   "id": "f1314682",
   "metadata": {},
   "outputs": [],
   "source": []
  }
 ],
 "metadata": {
  "kernelspec": {
   "display_name": "Python 3 (ipykernel)",
   "language": "python",
   "name": "python3"
  },
  "language_info": {
   "codemirror_mode": {
    "name": "ipython",
    "version": 3
   },
   "file_extension": ".py",
   "mimetype": "text/x-python",
   "name": "python",
   "nbconvert_exporter": "python",
   "pygments_lexer": "ipython3",
   "version": "3.11.7"
  }
 },
 "nbformat": 4,
 "nbformat_minor": 5
}
