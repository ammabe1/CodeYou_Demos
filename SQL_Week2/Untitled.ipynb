{
 "cells": [
  {
   "cell_type": "markdown",
   "id": "09cb948b",
   "metadata": {},
   "source": [
    "<h1 align='center'>Entity Relationship Diagram How-To </h1>"
   ]
  },
  {
   "cell_type": "markdown",
   "id": "cea04881",
   "metadata": {},
   "source": [
    "<img src='https://imgs.search.brave.com/qzjloIXFEMGytdeb15Ww28ByWm-tjKXbvj5C-eNquU8/rs:fit:500:0:0:0/g:ce/aHR0cHM6Ly9pbWFn/ZXMuY3RmYXNzZXRz/Lm5ldC9xb3A5MnRu/ZXZpbnEvcDBKV3V5/ck5VNjV3c28zeFZN/cFhuLzI4MDI4MjIy/N2Y4OTIxYTYxZTA3/NzAxOWMxMWI3MDNi/L0VudGl0eV9SZWxh/dGlvbnNoaXBfRGlh/Z3JhbV93ZWJfdWku/cG5nP2ZtPXdlYnAm/cT04MA'>"
   ]
  },
  {
   "cell_type": "markdown",
   "id": "a30ae33f",
   "metadata": {},
   "source": [
    "**This notebook is meant to introduce the concepts necessary to be able to make basic use of an Entity Relationship Diagram (ERD,) a tool used to take a top down look at a database schema, inspect it's tables and fields and their relationships to one another.**\n",
    "\n",
    "**Let's say we want to construct a query that contains the fields Name, Order_Date, Type and Product_name. Since these data points come from four different tables we will have to join tables together in this query. The power of an ERD is it allows us to quickly understand the relationship the tables have to one another to assist us in putting them together.**\n",
    "\n",
    "**To construct our joins we have to know where the primary and foreign keys are in the tables, as these are the mechanisms utilized to combine the tables. As we can see in our ERD primary keys are marked with PK and have a line pointing to their corresponding foreign keys in other tables. This allows us to construct our joins quickly and efficiently.**\n",
    "\n"
   ]
  },
  {
   "cell_type": "markdown",
   "id": "8a31862c",
   "metadata": {},
   "source": [
    "**Utilizing information from our ERD We are able to construct the following query using the relationships between the tables which let us know how to construct our joins.**\n",
    "\n",
    "SELECT Customer.Name, Order.Order_date, Delivery.Type, Product.Product_Name\n",
    "\n",
    "FROM Customer\n",
    "\n",
    "INNER JOIN Order ON Customer.Customer_ID = Order.Customer_ID\n",
    "\n",
    "INNER JOIN Delivery ON Order.Delivery_ID = Delivery.Delivery_ID\n",
    "\n",
    "INNER JOIN Product ON Order.Product_ID = Product.Product_ID"
   ]
  },
  {
   "cell_type": "markdown",
   "id": "6a5ad791",
   "metadata": {},
   "source": [
    "<h3 align='center'>Technical Definition of ERD</h3>\n",
    "\n",
    "**An Entity Relationship (ER) Diagram is a type of flowchart that illustrates how “entities” such as people, objects or concepts relate to each other within a system. ER Diagrams are most often used to design or debug relational databases in the fields of software engineering, business information systems, education and research.**\n",
    "\n",
    "https://www.lucidchart.com/pages/er-diagrams\n",
    "    \n",
    "I'll note this link also has some predesigned templates and allows the capability to put together your own ERDs."
   ]
  },
  {
   "cell_type": "markdown",
   "id": "75386cc9",
   "metadata": {},
   "source": [
    "<h3 align='center'>Types of Relationships</h3>\n",
    "\n",
    "<h4>One to One</h4>\n",
    "\n",
    "**One-to-one relationships are those where one row of data in one table is related only to one row of data in another table. A practical example of a one-to-one relationship is the person to passport relationship.**\n",
    "\n",
    "<h4>One to Many</h4>\n",
    "\n",
    "**One-to-many relationships are those where one row of data in one table is related to many (one or more) rows of data in another table. A practical example of a one-to-many relationship is the class to student relationship.**\n",
    "\n",
    "<h4>Many to Many</h4>\n",
    "\n",
    "**Many-to-many relationships are those where many (one or more) rows of data in one table are related to many (one or more) rows of data in another table.**\n",
    "\n",
    "**A practical example of a many-to-many relationship is a table that stores a list of many university courses & a table that stores a list of many student information. A Student can take multiple (many) Courses and a Course can have many attendant Students.**\n",
    "\n",
    "https://www.dittofi.com/learn/relationships-in-sql-complete-guide-with-examples"
   ]
  },
  {
   "cell_type": "markdown",
   "id": "422325fd",
   "metadata": {},
   "source": [
    "**It is not my expectation to go too deep in depth on these relationships but I did want to introduce them as they can influence decisions on the kinds of joins one might want to make for example. Everything I plan on doing today centers around one to one relationships and can be accomplished with inner joins.**"
   ]
  },
  {
   "cell_type": "markdown",
   "id": "e79f6ab6",
   "metadata": {},
   "source": [
    "<h3 align='center'>Crow's Foot Notation</h3>\n",
    "\n",
    "<img src='https://imgs.search.brave.com/CGJNOQCyngqZSC01PYcuUVU6vUzGmQvXiR_D51v25TM/rs:fit:860:0:0:0/g:ce/aHR0cHM6Ly9kMnNs/Y3cza2lwNnFtay5j/bG91ZGZyb250Lm5l/dC9tYXJrZXRpbmcv/cGFnZXMvY2hhcnQv/ZXJkLXN5bWJvbHMv/RVJELU5vdGF0aW9u/LlBORw'>\n",
    "\n",
    "https://www.lucidchart.com/pages/er-diagrams"
   ]
  },
  {
   "cell_type": "markdown",
   "id": "20be4e2b",
   "metadata": {},
   "source": [
    "**Crow's foot notation is a system of indicating the relationship between entities in an ERD. Above are some example of possible relationships. This is not exhaustive. Understanding the basics of this can be helpful in making thoughtful join decisions however.**\n",
    "\n",
    "**In general for now It's important to know that a horizontal line indicates 1 and the lines set at 45 degree angles from one another represents many. A circle indicates the possibility of 0 matches in one table relative to another table. This will come into play more when considering OUTER JOINS which I do not plan on getting into today.**"
   ]
  },
  {
   "cell_type": "markdown",
   "id": "c564548a",
   "metadata": {},
   "source": [
    "<h4>Crow's Foot Notation Examples</h4>\n",
    "\n",
    "<img src='https://imgs.search.brave.com/KP2XZO1VRSiS8BcO-8N6QsKGJKpWuxiJMY7sYR1SaSM/rs:fit:860:0:0:0/g:ce/aHR0cHM6Ly93d3cu/ZGF0YWJhc2VzdGFy/LmNvbS93cC1jb250/ZW50L3VwbG9hZHMv/MjAxOS8wNy9Dcm93/cy1Gb290LUV4YW1w/bGVzLnBuZw'>\n",
    "\n",
    "https://www.databasestar.com/entity-relationship-diagram/"
   ]
  },
  {
   "cell_type": "code",
   "execution_count": null,
   "id": "17dad50d",
   "metadata": {},
   "outputs": [],
   "source": []
  }
 ],
 "metadata": {
  "kernelspec": {
   "display_name": "Python 3 (ipykernel)",
   "language": "python",
   "name": "python3"
  },
  "language_info": {
   "codemirror_mode": {
    "name": "ipython",
    "version": 3
   },
   "file_extension": ".py",
   "mimetype": "text/x-python",
   "name": "python",
   "nbconvert_exporter": "python",
   "pygments_lexer": "ipython3",
   "version": "3.11.7"
  }
 },
 "nbformat": 4,
 "nbformat_minor": 5
}
