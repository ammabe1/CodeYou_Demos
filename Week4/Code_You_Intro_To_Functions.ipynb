{
 "cells": [
  {
   "cell_type": "code",
   "execution_count": 1,
   "id": "a2c7d6d1-fe1a-4e3c-8d6c-3b681ef43178",
   "metadata": {},
   "outputs": [],
   "source": [
    "# Basic function to add two numbers and return the sum\n",
    "\n",
    "def num_adder(a, b):\n",
    "    c = a + b\n",
    "    return c"
   ]
  },
  {
   "cell_type": "code",
   "execution_count": 2,
   "id": "7b496cd3-2929-415e-946a-50a4aa590c8d",
   "metadata": {},
   "outputs": [
    {
     "data": {
      "text/plain": [
       "12"
      ]
     },
     "execution_count": 2,
     "metadata": {},
     "output_type": "execute_result"
    }
   ],
   "source": [
    "# Calling this function with the numbers 5 and 7\n",
    "\n",
    "num_adder(5, 7)"
   ]
  },
  {
   "cell_type": "code",
   "execution_count": 3,
   "id": "0188b5a0-6851-4896-81be-ad1011c31467",
   "metadata": {},
   "outputs": [],
   "source": [
    "# Function to add two numbers with no return statement\n",
    "\n",
    "def no_return(a, b):\n",
    "    c = a + b"
   ]
  },
  {
   "cell_type": "code",
   "execution_count": 4,
   "id": "5fcf11f0-c951-4e55-babe-47444f186daf",
   "metadata": {},
   "outputs": [],
   "source": [
    "# Calling the function with the numbers 5 and 7 to illustrate that without a return statement the function will not yield output\n",
    "\n",
    "no_return(5, 7)"
   ]
  },
  {
   "cell_type": "code",
   "execution_count": 5,
   "id": "0f79dc41-4ca8-4876-b08c-84a60715bedb",
   "metadata": {},
   "outputs": [
    {
     "ename": "NameError",
     "evalue": "name 'c' is not defined",
     "output_type": "error",
     "traceback": [
      "\u001b[1;31m---------------------------------------------------------------------------\u001b[0m",
      "\u001b[1;31mNameError\u001b[0m                                 Traceback (most recent call last)",
      "Cell \u001b[1;32mIn[5], line 3\u001b[0m\n\u001b[0;32m      1\u001b[0m \u001b[38;5;66;03m# Checking the variable c to illustrate local scope. Since this variable was declared within a function it is not assigned in the global scope\u001b[39;00m\n\u001b[1;32m----> 3\u001b[0m c\n",
      "\u001b[1;31mNameError\u001b[0m: name 'c' is not defined"
     ]
    }
   ],
   "source": [
    "# Checking the variable c to illustrate local scope. Since this variable was declared within a function it is not assigned in the global scope\n",
    "\n",
    "c"
   ]
  },
  {
   "cell_type": "code",
   "execution_count": 6,
   "id": "28f84167-a5fe-4c19-a68f-903e2725ab66",
   "metadata": {},
   "outputs": [],
   "source": [
    "# We'll now assign to variable c the return of the num adder function so that it will be defined in global scope\n",
    "\n",
    "c = num_adder(5, 7)"
   ]
  },
  {
   "cell_type": "code",
   "execution_count": 7,
   "id": "5c060102-762a-4ba0-9149-5433d5597144",
   "metadata": {},
   "outputs": [
    {
     "data": {
      "text/plain": [
       "12"
      ]
     },
     "execution_count": 7,
     "metadata": {},
     "output_type": "execute_result"
    }
   ],
   "source": [
    "# Validating that the variable c is now assigned the return of the num_adder function\n",
    "\n",
    "c"
   ]
  },
  {
   "cell_type": "code",
   "execution_count": 8,
   "id": "b8cf7864-04be-450c-aae0-8e6c32a66b20",
   "metadata": {},
   "outputs": [],
   "source": [
    "# Basic function to add three numbers and return the sum\n",
    "\n",
    "def three_num_adder(a, b, c):\n",
    "    return a + b + c"
   ]
  },
  {
   "cell_type": "code",
   "execution_count": 9,
   "id": "b7809f0e-3d67-4afa-8ec8-004e400a22da",
   "metadata": {},
   "outputs": [
    {
     "data": {
      "text/plain": [
       "23"
      ]
     },
     "execution_count": 9,
     "metadata": {},
     "output_type": "execute_result"
    }
   ],
   "source": [
    "# Calling the function with the numbers 5, 7, and 11\n",
    "\n",
    "three_num_adder(5, 7, 11)"
   ]
  },
  {
   "cell_type": "code",
   "execution_count": 10,
   "id": "e5755e7f-bf0c-48da-a320-1523cda78fab",
   "metadata": {},
   "outputs": [
    {
     "ename": "TypeError",
     "evalue": "three_num_adder() missing 1 required positional argument: 'c'",
     "output_type": "error",
     "traceback": [
      "\u001b[1;31m---------------------------------------------------------------------------\u001b[0m",
      "\u001b[1;31mTypeError\u001b[0m                                 Traceback (most recent call last)",
      "Cell \u001b[1;32mIn[10], line 3\u001b[0m\n\u001b[0;32m      1\u001b[0m \u001b[38;5;66;03m# Calling the function with the numbers 5 and 7 to illustrate that this function has to have exactly three arguments\u001b[39;00m\n\u001b[1;32m----> 3\u001b[0m three_num_adder(\u001b[38;5;241m5\u001b[39m, \u001b[38;5;241m7\u001b[39m)\n",
      "\u001b[1;31mTypeError\u001b[0m: three_num_adder() missing 1 required positional argument: 'c'"
     ]
    }
   ],
   "source": [
    "# Calling the function with the numbers 5 and 7 to illustrate that this function has to have exactly three arguments\n",
    "\n",
    "three_num_adder(5, 7)"
   ]
  },
  {
   "cell_type": "code",
   "execution_count": 11,
   "id": "89f866f7-d6a0-45c7-a5be-2c94a040403b",
   "metadata": {},
   "outputs": [
    {
     "ename": "TypeError",
     "evalue": "three_num_adder() takes 3 positional arguments but 4 were given",
     "output_type": "error",
     "traceback": [
      "\u001b[1;31m---------------------------------------------------------------------------\u001b[0m",
      "\u001b[1;31mTypeError\u001b[0m                                 Traceback (most recent call last)",
      "Cell \u001b[1;32mIn[11], line 3\u001b[0m\n\u001b[0;32m      1\u001b[0m \u001b[38;5;66;03m# Calling the function with the numbers 5, 7, 11, and 15 to illustrate the error if you give too many arguments\u001b[39;00m\n\u001b[1;32m----> 3\u001b[0m three_num_adder(\u001b[38;5;241m5\u001b[39m, \u001b[38;5;241m7\u001b[39m, \u001b[38;5;241m11\u001b[39m, \u001b[38;5;241m15\u001b[39m)\n",
      "\u001b[1;31mTypeError\u001b[0m: three_num_adder() takes 3 positional arguments but 4 were given"
     ]
    }
   ],
   "source": [
    "# Calling the function with the numbers 5, 7, 11, and 15 to illustrate the error if you give too many arguments\n",
    "\n",
    "three_num_adder(5, 7, 11, 15)"
   ]
  },
  {
   "cell_type": "code",
   "execution_count": 12,
   "id": "10f7dbb3-3fa5-42db-9640-a53c9065fdf2",
   "metadata": {},
   "outputs": [],
   "source": [
    "# Basic function to concatenate two strings\n",
    "\n",
    "def string_adder(string1, string2):\n",
    "    statement = str(string1) + str(string2)\n",
    "    return statement"
   ]
  },
  {
   "cell_type": "code",
   "execution_count": 13,
   "id": "5b9fe3ee-799e-4eea-98e1-68a2b51f0ae3",
   "metadata": {},
   "outputs": [
    {
     "data": {
      "text/plain": [
       "'hello world'"
      ]
     },
     "execution_count": 13,
     "metadata": {},
     "output_type": "execute_result"
    }
   ],
   "source": [
    "# Calling the function with the arguments 'hello' and ' world'\n",
    "\n",
    "string_adder('hello', ' world')"
   ]
  },
  {
   "cell_type": "code",
   "execution_count": 15,
   "id": "5277f10c-0199-47c8-9306-c83407289723",
   "metadata": {},
   "outputs": [],
   "source": [
    "# Basic function using *args to illustrate how to build a function that can take an unknown number of arguments. This function adds all the arguments \n",
    "# and returns the sum\n",
    "\n",
    "def args_adder(*args):\n",
    "    sum = 0\n",
    "    for num in args:\n",
    "        sum += num\n",
    "    return sum   "
   ]
  },
  {
   "cell_type": "code",
   "execution_count": 16,
   "id": "ae8e5e56-1709-434b-bdb7-f391b7ba30bd",
   "metadata": {},
   "outputs": [
    {
     "data": {
      "text/plain": [
       "233"
      ]
     },
     "execution_count": 16,
     "metadata": {},
     "output_type": "execute_result"
    }
   ],
   "source": [
    "# Calling the function with 7 arguments to illustrate that this function will accept any number of arguments\n",
    "\n",
    "args_adder(5, 7, 11, 23, 31, 45, 111)"
   ]
  },
  {
   "cell_type": "code",
   "execution_count": 21,
   "id": "f225eb2b-4a5c-44cf-9d07-439c2d10c7f6",
   "metadata": {},
   "outputs": [],
   "source": [
    "# Basic function that accepts an unlimited number of string arguments and concatenates them into one statement \n",
    "\n",
    "def args_string_adder(*strings):\n",
    "    statement = ''\n",
    "    for string in strings:\n",
    "        statement += string\n",
    "    return statement"
   ]
  },
  {
   "cell_type": "code",
   "execution_count": 22,
   "id": "a3c0fcb0-05f5-49b5-a8ec-a848ecc8a537",
   "metadata": {},
   "outputs": [
    {
     "data": {
      "text/plain": [
       "'wow, does this really work?'"
      ]
     },
     "execution_count": 22,
     "metadata": {},
     "output_type": "execute_result"
    }
   ],
   "source": [
    "# Calling the function with 5 arguments to illustrate that the concatenation works\n",
    "\n",
    "args_string_adder('wow,', ' does', ' this', ' really', ' work?')"
   ]
  },
  {
   "cell_type": "code",
   "execution_count": 23,
   "id": "f2f2c594-f843-4546-9cfe-fc40e6235e33",
   "metadata": {},
   "outputs": [],
   "source": [
    "# Function to concatenate all the keyword values into a statement\n",
    "\n",
    "def dict_value_unpacker(**kwargs):\n",
    "    statement = ''\n",
    "    for key, value in kwargs.items():\n",
    "        statement += value\n",
    "    return statement"
   ]
  },
  {
   "cell_type": "code",
   "execution_count": 24,
   "id": "1eb0e967-bb1b-4ea8-bb8e-38031b284172",
   "metadata": {},
   "outputs": [
    {
     "data": {
      "text/plain": [
       "'this is cool!'"
      ]
     },
     "execution_count": 24,
     "metadata": {},
     "output_type": "execute_result"
    }
   ],
   "source": [
    "# Calling this function to validate that it will concatenate string values\n",
    "\n",
    "dict_value_unpacker(string1 = 'this', string2 = ' is', string3 = ' cool!')"
   ]
  },
  {
   "cell_type": "code",
   "execution_count": 25,
   "id": "ac7a8642-9084-4002-bcb6-faf02b095982",
   "metadata": {},
   "outputs": [],
   "source": [
    "# Function that returns a dictionary of the key:value pairs of the arguments\n",
    "\n",
    "def dict_builder(**kwargs):\n",
    "    return kwargs"
   ]
  },
  {
   "cell_type": "code",
   "execution_count": 27,
   "id": "dd259a19-6b71-4cd5-9ca6-094eade1abfa",
   "metadata": {},
   "outputs": [
    {
     "data": {
      "text/plain": [
       "{'string1': 'this', 'string2': ' is', 'string3': ' cool!'}"
      ]
     },
     "execution_count": 27,
     "metadata": {},
     "output_type": "execute_result"
    }
   ],
   "source": [
    "# Calling this function to validate that it returns a dictionary of the arguments\n",
    "\n",
    "dict_builder(string1 = 'this', string2 = ' is', string3 = ' cool!')"
   ]
  },
  {
   "cell_type": "code",
   "execution_count": 28,
   "id": "dbe95396-55a7-436e-845f-bcec5f1c7a65",
   "metadata": {},
   "outputs": [
    {
     "data": {
      "text/plain": [
       "38"
      ]
     },
     "execution_count": 28,
     "metadata": {},
     "output_type": "execute_result"
    }
   ],
   "source": [
    "# Calling the args_adder function passing the result of num_adder function as arguments\n",
    "\n",
    "args_adder(num_adder(5, 7), num_adder(3, 8), num_adder(4, 11))"
   ]
  },
  {
   "cell_type": "code",
   "execution_count": 29,
   "id": "5284e3cc-9e30-43f3-be69-4b72ad129f1f",
   "metadata": {},
   "outputs": [],
   "source": [
    "# Function args_subtracter calls function num_adder within it's block which adds a and b and saves it to the variable result then subtracting 10 from \n",
    "# the return of num_adder and overwriting that to the variable of result\n",
    "\n",
    "def args_subtracter(a, b):\n",
    "    result = num_adder(a, b)\n",
    "    result -= 10\n",
    "    return result"
   ]
  },
  {
   "cell_type": "code",
   "execution_count": 30,
   "id": "bab2423b-1426-4ff8-a719-0cddc2ce133e",
   "metadata": {},
   "outputs": [
    {
     "data": {
      "text/plain": [
       "17"
      ]
     },
     "execution_count": 30,
     "metadata": {},
     "output_type": "execute_result"
    }
   ],
   "source": [
    "# Calling the function to illustrate that it acts as we would expect returning 17 when passed 12 and 15 because 12 + 15 - 10 = 17\n",
    "\n",
    "args_subtracter(12, 15)"
   ]
  },
  {
   "cell_type": "code",
   "execution_count": 31,
   "id": "273029b5-835b-4a60-94e9-e824fa338ffb",
   "metadata": {},
   "outputs": [],
   "source": [
    "# Declaring a function that takes any number of integer arguments, adds them together saving the result in the variable sum. Sum is then evaluated\n",
    "# against 100 assigning the string 'Sum is greater than 100' if that is the case to the variable result and 'Sum is less than or equal to 100' if that\n",
    "# is not the case\n",
    "\n",
    "def greater_than_100(*nums):\n",
    "    sum = 0\n",
    "    for i in nums:\n",
    "        sum += i\n",
    "    if sum > 100:\n",
    "        result = 'Sum is greater than 100'\n",
    "    else:\n",
    "        result = 'Sum is less than or equal to 100'\n",
    "    return result"
   ]
  },
  {
   "cell_type": "code",
   "execution_count": 32,
   "id": "e044a990-b6dc-4d90-9f00-e59aac10b3d6",
   "metadata": {},
   "outputs": [
    {
     "data": {
      "text/plain": [
       "'Sum is less than or equal to 100'"
      ]
     },
     "execution_count": 32,
     "metadata": {},
     "output_type": "execute_result"
    }
   ],
   "source": [
    "greater_than_100(4, 13, 67)"
   ]
  },
  {
   "cell_type": "code",
   "execution_count": 33,
   "id": "478a8e59-e45e-4411-bd49-ec86ad92ab64",
   "metadata": {},
   "outputs": [
    {
     "data": {
      "text/plain": [
       "'Sum is greater than 100'"
      ]
     },
     "execution_count": 33,
     "metadata": {},
     "output_type": "execute_result"
    }
   ],
   "source": [
    "greater_than_100(101)"
   ]
  },
  {
   "cell_type": "code",
   "execution_count": null,
   "id": "f1c979f7-242e-4bc4-8550-9793467d4898",
   "metadata": {},
   "outputs": [],
   "source": [
    "# Testing"
   ]
  }
 ],
 "metadata": {
  "kernelspec": {
   "display_name": "Python 3 (ipykernel)",
   "language": "python",
   "name": "python3"
  },
  "language_info": {
   "codemirror_mode": {
    "name": "ipython",
    "version": 3
   },
   "file_extension": ".py",
   "mimetype": "text/x-python",
   "name": "python",
   "nbconvert_exporter": "python",
   "pygments_lexer": "ipython3",
   "version": "3.11.7"
  }
 },
 "nbformat": 4,
 "nbformat_minor": 5
}
