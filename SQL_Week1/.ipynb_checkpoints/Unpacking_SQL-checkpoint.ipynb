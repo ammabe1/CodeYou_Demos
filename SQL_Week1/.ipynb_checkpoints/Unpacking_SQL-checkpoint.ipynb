{
 "cells": [
  {
   "cell_type": "markdown",
   "id": "7cfec6d2",
   "metadata": {},
   "source": [
    "<h1 align='center'>Unpacking an SQL query</h1>"
   ]
  },
  {
   "cell_type": "markdown",
   "id": "c3cf6eed",
   "metadata": {},
   "source": [
    "<img src='https://imgs.search.brave.com/HrkrkzMPiSye8xqhfY-ALSNjXKELxkZRKjFF_KaDk9w/rs:fit:860:0:0:0/g:ce/aHR0cHM6Ly9tZWRp/YS5nZXR0eWltYWdl/cy5jb20vaWQvMTMy/NTM2OTc0Ny9waG90/by9hLXlvdW5nLWNv/dXBsZS1wYWNraW5n/LXVud3JhcHBpbmct/bW92aW5nLWJveGVz/LmpwZz9zPTYxMng2/MTImdz0wJms9MjAm/Yz0zeERNdUdpUC1t/QjQwV1hOeGRMYjN6/WjZRWWNFTmNBV3h6/QThkVG1xRVV3PQ'>\n",
    "\n",
    "https://www.gettyimages.com/photos/unpacking"
   ]
  },
  {
   "cell_type": "markdown",
   "id": "4e8ba31d",
   "metadata": {},
   "source": [
    "<h2 align='center'> SELECT Statement</h2>"
   ]
  },
  {
   "cell_type": "markdown",
   "id": "0050f4ca",
   "metadata": {},
   "source": [
    "**The SQL SELECT statement returns a result set of rows, from one or more tables. In most applications, SELECT is the most commonly used data manipulation language (DML) command.**\n",
    "\n",
    "https://en.wikipedia.org/wiki/Select_(SQL)\n",
    "    \n",
    "**In a nutshell the SELECT statement is where data retrieval queries begin. You pass it the field names you are interested in, prefaced by the table name containing the field if the query pulls from multiple tables.**"
   ]
  },
  {
   "cell_type": "markdown",
   "id": "2008265d",
   "metadata": {},
   "source": [
    "<h3 align='center'>Examples</h3>"
   ]
  },
  {
   "cell_type": "markdown",
   "id": "319b16e2",
   "metadata": {},
   "source": [
    "**SELECT city, state FROM location**\n",
    "\n",
    "**SELECT orders.order_num, location.city, location.state FROM orders INNER JOIN location ON orders.order_id = location.order_id**\n",
    "\n",
    "<h3>I'll also note the very common SELECT * which can be read as \"select all\" which selects every field from a table.</h3>\n",
    "\n",
    "**SELECT * FROM location**\n",
    "\n",
    "**SELECT orders.*, location.city, location.state FROM orders INNER JOIN location ON orders.order_id = location.order_id**\n",
    "\n",
    "<h3>It is also common to use aggregation functions like COUNT(), MIN(), MAX(), etc in a SELECT statement</h3>\n",
    "\n",
    "**SELECT MIN(order_date), MAX(order_date) FROM orders**\n",
    "\n",
    "**This would output the earliest and latest order dates in the table.**\n",
    "\n",
    "<h3>This also seems like an appropriate place to introduce a concept known as 'aliasing' where we give a new name to a field in the result set</h3>\n",
    "\n",
    "**SELECT number AS 'Jersey Number' FROM player**\n",
    "\n",
    "**This would return the alternate column name 'Jersey Number' in the result set in the interests of making it easier to interpret for human consumers**"
   ]
  },
  {
   "cell_type": "markdown",
   "id": "eaf421d0",
   "metadata": {},
   "source": [
    "<img src='SELECT.png'>"
   ]
  },
  {
   "cell_type": "markdown",
   "id": "8ee7bbfc",
   "metadata": {},
   "source": [
    "<h2 align='center'>FROM Statement</h2>"
   ]
  },
  {
   "cell_type": "code",
   "execution_count": null,
   "id": "ba931d07",
   "metadata": {},
   "outputs": [],
   "source": []
  }
 ],
 "metadata": {
  "kernelspec": {
   "display_name": "Python 3 (ipykernel)",
   "language": "python",
   "name": "python3"
  },
  "language_info": {
   "codemirror_mode": {
    "name": "ipython",
    "version": 3
   },
   "file_extension": ".py",
   "mimetype": "text/x-python",
   "name": "python",
   "nbconvert_exporter": "python",
   "pygments_lexer": "ipython3",
   "version": "3.11.7"
  }
 },
 "nbformat": 4,
 "nbformat_minor": 5
}
