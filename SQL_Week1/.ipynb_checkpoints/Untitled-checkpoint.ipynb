{
 "cells": [
  {
   "cell_type": "markdown",
   "id": "94d85e37",
   "metadata": {},
   "source": [
    "# What is a Database? "
   ]
  },
  {
   "cell_type": "markdown",
   "id": "122b4b14",
   "metadata": {},
   "source": [
    "A database is an electronically stored, systematic collection of data. It can contain any type of data, including words, numbers, images, videos, and files. You can use software called a database management system (DBMS) to store, retrieve, and edit data."
   ]
  },
  {
   "cell_type": "markdown",
   "id": "dbf7bb21",
   "metadata": {},
   "source": [
    "<img src='https://imgs.search.brave.com/FEvoN_P7Gr5GmThEjqohbNh8w4g9ghh0r6tkxluWhSw/rs:fit:500:0:0:0/g:ce/aHR0cHM6Ly91cGxv/YWQud2lraW1lZGlh/Lm9yZy93aWtpcGVk/aWEvY29tbW9ucy90/aHVtYi9mL2YyL0RW/RF9SZW50YWxfUXVl/cnkucG5nLzY0MHB4/LURWRF9SZW50YWxf/UXVlcnkucG5n'>"
   ]
  },
  {
   "cell_type": "markdown",
   "id": "caadcae6",
   "metadata": {},
   "source": [
    "# What is a DBMS? "
   ]
  },
  {
   "cell_type": "markdown",
   "id": "0b754ff0",
   "metadata": {},
   "source": [
    "A Database Management System (DBMS) is software that handles the storage, retrieval, and processing of data. It provides a platform for managing databases, allowing users to access and interact with the underlying data in a structured manner."
   ]
  }
 ],
 "metadata": {
  "kernelspec": {
   "display_name": "Python 3 (ipykernel)",
   "language": "python",
   "name": "python3"
  },
  "language_info": {
   "codemirror_mode": {
    "name": "ipython",
    "version": 3
   },
   "file_extension": ".py",
   "mimetype": "text/x-python",
   "name": "python",
   "nbconvert_exporter": "python",
   "pygments_lexer": "ipython3",
   "version": "3.11.7"
  }
 },
 "nbformat": 4,
 "nbformat_minor": 5
}
