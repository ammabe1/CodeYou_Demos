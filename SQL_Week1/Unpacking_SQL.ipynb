{
 "cells": [
  {
   "cell_type": "markdown",
   "id": "7cfec6d2",
   "metadata": {},
   "source": [
    "<h1 align='center'>Unpacking an SQL query</h1>"
   ]
  },
  {
   "cell_type": "markdown",
   "id": "c3cf6eed",
   "metadata": {},
   "source": [
    "<img src='https://imgs.search.brave.com/HrkrkzMPiSye8xqhfY-ALSNjXKELxkZRKjFF_KaDk9w/rs:fit:860:0:0:0/g:ce/aHR0cHM6Ly9tZWRp/YS5nZXR0eWltYWdl/cy5jb20vaWQvMTMy/NTM2OTc0Ny9waG90/by9hLXlvdW5nLWNv/dXBsZS1wYWNraW5n/LXVud3JhcHBpbmct/bW92aW5nLWJveGVz/LmpwZz9zPTYxMng2/MTImdz0wJms9MjAm/Yz0zeERNdUdpUC1t/QjQwV1hOeGRMYjN6/WjZRWWNFTmNBV3h6/QThkVG1xRVV3PQ'>\n",
    "\n",
    "https://www.gettyimages.com/photos/unpacking"
   ]
  },
  {
   "cell_type": "markdown",
   "id": "4175e6ec",
   "metadata": {},
   "source": [
    "<h2 align='center'> CRUD </h2>"
   ]
  },
  {
   "cell_type": "markdown",
   "id": "07c1f83e",
   "metadata": {},
   "source": [
    "**CRUD stands for Create, Read, Update and Delete and represents the basic data operations.**\n",
    "\n",
    "**In SQL you can create a table with the CREATE statement, the INSERT statement likely also fits into the C category as it is used to insert data into an existing table.**\n",
    "\n",
    "**The SELECT statement is used to read data from the database. This is primarily what we are going to cover today, and is generally central to database reporting.**\n",
    "\n",
    "**The SQL UPDATE statement unsurprisingly covers the U in CRUD. UPDATE alters already existing data in the database. Let's say we have a table that covers shipping statuses, every time the status changes an UPDATE statement could be run to alter the record representing that order in the database.**\n",
    "\n",
    "**The SQL DELETE statement satisfies the D in CRUD. This can delete rows, tables, schemas, etc. Be very careful with the DELETE statement as these operations are not reversible. A good general rule is to make sure you include a WHERE clause in any delete statement, as if you just run DELETE table it is easy to accidentally get rid of more than is desired as opposed to something like DELETE FROM table WHERE order_status = 'final'**"
   ]
  },
  {
   "cell_type": "markdown",
   "id": "5d475e57",
   "metadata": {},
   "source": [
    "<img src='https://mazer.dev/en/blog/posts/crud/featured-crud.webp'>\n",
    "\n",
    "https://mazer.dev/en/blog/posts/crud/"
   ]
  },
  {
   "cell_type": "markdown",
   "id": "4e8ba31d",
   "metadata": {},
   "source": [
    "<h2 align='center'> SELECT Statement</h2>"
   ]
  },
  {
   "cell_type": "markdown",
   "id": "0050f4ca",
   "metadata": {},
   "source": [
    "**The SQL SELECT statement returns a result set of rows, from one or more tables. In most applications, SELECT is the most commonly used data manipulation language (DML) command.**\n",
    "\n",
    "https://en.wikipedia.org/wiki/Select_(SQL)\n",
    "    \n",
    "**In a nutshell the SELECT statement is where data retrieval queries begin. You pass it the field names you are interested in, prefaced by the table name containing the field if the query pulls from multiple tables.**"
   ]
  },
  {
   "cell_type": "markdown",
   "id": "ebd8e184",
   "metadata": {},
   "source": [
    "<h3 align='center'>Examples</h3>"
   ]
  },
  {
   "cell_type": "markdown",
   "id": "e826c1a8",
   "metadata": {},
   "source": [
    "**SELECT city, state FROM location**\n",
    "\n",
    "**SELECT orders.order_num, location.city, location.state FROM orders INNER JOIN location ON orders.order_id = location.order_id**\n",
    "\n",
    "<h3>I'll also note the very common SELECT * which can be read as \"select all\" which selects every field from a table.</h3>\n",
    "\n",
    "**SELECT * FROM location**\n",
    "\n",
    "**SELECT orders.*, location.city, location.state FROM orders INNER JOIN location ON orders.order_id = location.order_id**\n",
    "\n",
    "<h3>It is also common to use aggregation functions like COUNT(), MIN(), MAX(), etc in a SELECT statement. You might also see the word DISTINCT in a SELECT statement which drops duplicate rows.</h3>\n",
    "\n",
    "**SELECT MIN(order_date), MAX(order_date) FROM orders**\n",
    "\n",
    "**This would output the earliest and latest order dates in the table.**\n",
    "\n",
    "<h3>This also seems like an appropriate place to introduce a concept known as 'aliasing' where we give a new name to a field in the result set</h3>\n",
    "\n",
    "**SELECT number AS 'Jersey Number' FROM player**\n",
    "\n",
    "**This would return the alternate column name 'Jersey Number' in the result set in the interests of making it easier to interpret for human consumers**"
   ]
  },
  {
   "cell_type": "markdown",
   "id": "3e377e31",
   "metadata": {},
   "source": [
    "<img src='SELECT.png'>\n",
    "\n",
    "https://intellipaat.com/blog/tutorial/sql-tutorial/select-query-in-sql/"
   ]
  },
  {
   "cell_type": "markdown",
   "id": "8ee7bbfc",
   "metadata": {},
   "source": [
    "<h2 align='center'>FROM Statement</h2>"
   ]
  },
  {
   "cell_type": "markdown",
   "id": "0d61cff8",
   "metadata": {},
   "source": [
    "**The FROM command is used to specify which table(s) to select or delete data from.**\n",
    "\n",
    "https://www.w3schools.com/SQl/sql_ref_from.asp\n",
    "    \n",
    "**SQL Joins are also performed as part of a FROM clause where tables are worked together to allow pulling data from multiple places. There are a couple of different kind of SQL Joins and which one to use for any particular operation is a pretty important decision. It's easy to get unexpected results if you don't join tables in the way that you had intended to.**"
   ]
  },
  {
   "cell_type": "markdown",
   "id": "e4b5aab4",
   "metadata": {},
   "source": [
    "<h2 align='center'> Types of SQL Joins </h2>"
   ]
  },
  {
   "cell_type": "markdown",
   "id": "9d55b58a",
   "metadata": {},
   "source": [
    "- (INNER) JOIN: Returns records that have matching values in both tables\n",
    "- LEFT (OUTER) JOIN: Returns all records from the left table, and the matched records from the right table\n",
    "- RIGHT (OUTER) JOIN: Returns all records from the right table, and the matched records from the left table\n",
    "- FULL (OUTER) JOIN: Returns all records when there is a match in either left or right table\n",
    "    \n",
    "**I will note this list is not exhaustive but is a basic introduction to the basic kinds of joins.**\n",
    "\n",
    "**For the sake of LEFT vs RIGHT this is based on what side of an = a table is in a join statement. This can look like FROM orders INNER JOIN location ON orders.order_id = location.order_id. In this example orders is the left table and location is the right table.**\n",
    "\n",
    "**It's also very important to know that JOINs are performed 'on a field' creating a master table from matching values in a field between two tables. In the example above we joined on order_id so the join would add columns to the result set with values from both tables that match on the value in the order_id field.**\n",
    "\n",
    "**JOINs can get complex enough that it would be appropriate to devote an entire lesson to them. In the interest of brevity I will end this exploration here for now.**"
   ]
  },
  {
   "cell_type": "markdown",
   "id": "546b6734",
   "metadata": {},
   "source": [
    "<img src='https://cdn.analyticsvidhya.com/wp-content/uploads/2020/02/sql-joins-diagram.png'>\n",
    "\n",
    "https://www.analyticsvidhya.com/blog/2020/02/understanding-sql-joins/"
   ]
  },
  {
   "cell_type": "markdown",
   "id": "5985ea08",
   "metadata": {},
   "source": [
    "<h2 align='center'>WHERE Statement </h2>"
   ]
  },
  {
   "cell_type": "markdown",
   "id": "5f0cb3a7",
   "metadata": {},
   "source": [
    "**The WHERE clause is used to filter records.**\n",
    "\n",
    "**It is used to extract only those records that fulfill a specified condition.**\n",
    "\n",
    "https://www.w3schools.com/sql/sql_where.asp\n",
    "    \n",
    "**WHERE clauses are the primary way of targeting result sets to your specific conditions and can be chained together with the keyword AND.**\n",
    "\n",
    "**It is also common to use the keyword BETWEEN to SELECT values between a range in a date or numeric field**"
   ]
  },
  {
   "cell_type": "markdown",
   "id": "62cbef9b",
   "metadata": {},
   "source": [
    "<h3 align='center'>Examples</h3>"
   ]
  },
  {
   "cell_type": "markdown",
   "id": "fc32194c",
   "metadata": {},
   "source": [
    "**SELECT city, state**\n",
    "\n",
    "**FROM location**\n",
    "\n",
    "**WHERE state = 'Kentucky';**\n",
    "\n",
    "<br />\n",
    "\n",
    "**SELECT orders.order_num, location.city, location.state**\n",
    "\n",
    "**FROM orders**\n",
    "\n",
    "**INNER JOIN locations ON orders.order_id = location.order_id**\n",
    "\n",
    "**WHERE location.city = 'Louisville' AND location.state = 'Kentucky';**\n",
    "\n",
    "<br />\n",
    "\n",
    "**SELECT order_num, order_date**\n",
    "\n",
    "**FROM orders**\n",
    "\n",
    "**WHERE order_date BETWEEN '2024-01-01' AND '2024-03-31';**\n",
    "\n",
    "<br />\n",
    "\n",
    "**SELECT order_num, order_date**\n",
    "\n",
    "**FROM orders**\n",
    "\n",
    "**WHERE order_num BETWEEN 100 AND 150;**"
   ]
  },
  {
   "cell_type": "markdown",
   "id": "edda72c9",
   "metadata": {},
   "source": [
    "<h2 align='center'> GROUP BY Statement</h2>"
   ]
  },
  {
   "cell_type": "markdown",
   "id": "371d4454",
   "metadata": {},
   "source": [
    "**The GROUP BY statement groups rows that have the same values into summary rows, like \"find the number of customers in each country\".**\n",
    "\n",
    "**The GROUP BY statement is often used with aggregate functions (COUNT(), MAX(), MIN(), SUM(), AVG()) to group the result-set by one or more columns.**\n",
    "\n",
    "https://www.w3schools.com/sql/sql_groupby.asp\n",
    "    \n",
    "    "
   ]
  },
  {
   "cell_type": "markdown",
   "id": "40a26050",
   "metadata": {},
   "source": [
    "<h3 align='center'>Example</h3>"
   ]
  },
  {
   "cell_type": "markdown",
   "id": "08e1cd0c",
   "metadata": {},
   "source": [
    "**SELECT order_type, COUNT(order_num), SUM(order_total)**\n",
    "\n",
    "**FROM orders**\n",
    "\n",
    "**GROUP BY order_type**"
   ]
  },
  {
   "cell_type": "markdown",
   "id": "1b57c1df",
   "metadata": {},
   "source": [
    "<img src='group_by.jpg'>\n",
    "\n",
    "https://learnsql.com/blog/group-by-in-sql-explained/"
   ]
  },
  {
   "cell_type": "markdown",
   "id": "a13e0a6d",
   "metadata": {},
   "source": [
    "<h2 align='center'> HAVING Statement </h2>"
   ]
  },
  {
   "cell_type": "markdown",
   "id": "900ffed6",
   "metadata": {},
   "source": [
    "**The HAVING Statement used in conjunction with GROUP BY and allows you to filter on an aggregation, for example if we only wanted rows with a COUNT() > 10 in our result set**"
   ]
  },
  {
   "cell_type": "markdown",
   "id": "db1016ca",
   "metadata": {},
   "source": [
    "<h3 align='center'> Example </h3>"
   ]
  },
  {
   "cell_type": "markdown",
   "id": "1341b77f",
   "metadata": {},
   "source": [
    "**SELECT order_type, COUNT(order_num), SUM(order_total)**\n",
    "\n",
    "**FROM orders**\n",
    "\n",
    "**GROUP BY order_type**\n",
    "\n",
    "**HAVING COUNT(order_num) > 10**"
   ]
  },
  {
   "cell_type": "markdown",
   "id": "474d19fb",
   "metadata": {},
   "source": [
    "<h2 align='center'> ORDER BY Statement </h2>"
   ]
  },
  {
   "cell_type": "markdown",
   "id": "19a42541",
   "metadata": {},
   "source": [
    "**Used to sort a result set based on a field (usually either ascending or descending.)**"
   ]
  },
  {
   "cell_type": "markdown",
   "id": "712a0a32",
   "metadata": {},
   "source": [
    "<img src='order_by.png'>\n",
    "\n",
    "https://www.sqlshack.com/overview-of-the-sql-order-by-clause/"
   ]
  },
  {
   "cell_type": "code",
   "execution_count": null,
   "id": "2a6bf378",
   "metadata": {},
   "outputs": [],
   "source": []
  }
 ],
 "metadata": {
  "kernelspec": {
   "display_name": "Python 3 (ipykernel)",
   "language": "python",
   "name": "python3"
  },
  "language_info": {
   "codemirror_mode": {
    "name": "ipython",
    "version": 3
   },
   "file_extension": ".py",
   "mimetype": "text/x-python",
   "name": "python",
   "nbconvert_exporter": "python",
   "pygments_lexer": "ipython3",
   "version": "3.11.7"
  }
 },
 "nbformat": 4,
 "nbformat_minor": 5
}
