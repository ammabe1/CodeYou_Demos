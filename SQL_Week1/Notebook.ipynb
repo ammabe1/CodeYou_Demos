{
 "cells": [
  {
   "cell_type": "markdown",
   "id": "58390368",
   "metadata": {},
   "source": [
    "<h1>Database Building Blocks</h1>\n",
    "\n",
    "<img src='https://imgs.search.brave.com/VrVVajR3sFCd53-ufIhRgIn1_6w56tnQVWwHJR_i6_A/rs:fit:860:0:0:0/g:ce/aHR0cHM6Ly9tZWRp/YS5nZXR0eWltYWdl/cy5jb20vaWQvOTcw/OTA3MjAvcGhvdG8v/Y2hpbGRyZW5zLWFi/Yy1idWlsZGluZy1i/bG9ja3MuanBnP3M9/NjEyeDYxMiZ3PTAm/az0yMCZjPUZZbnRQ/LTY2Q1JGZ3lzN3RX/MzZGenFKX0JocmVp/YjdJeElTbnY0ZGlR/enM9'>\n",
    "\n",
    "https://www.gettyimages.com/photos/building-block"
   ]
  },
  {
   "cell_type": "markdown",
   "id": "40a46a0b",
   "metadata": {},
   "source": [
    "<h2 align='center'>What is a Database?</h2>"
   ]
  },
  {
   "cell_type": "markdown",
   "id": "03f262f9",
   "metadata": {},
   "source": [
    "**A database is an electronically stored, systematic collection of data. It can contain any type of data, including words, numbers, images, videos, and files. You can use software called a database management system (DBMS) to store, retrieve, and edit data. In computer systems, the word database can also refer to any DBMS, to the database system, or to an application associated with the database.**\n",
    "\n",
    "https://aws.amazon.com/what-is/database/\n",
    "\n",
    "**It is worth noting that we will be writing SQL against Relational Databases, but they are not the only kind. NoSQL, Graph and Hierarchical databases are alternate models of databases that often do not incorporate SQL.**"
   ]
  },
  {
   "cell_type": "markdown",
   "id": "398d24a2",
   "metadata": {},
   "source": [
    "<h2 align='center'>What is a Relational Database?</h2>"
   ]
  },
  {
   "cell_type": "markdown",
   "id": "39b6cadd",
   "metadata": {},
   "source": [
    "**A relational database is a type of database that stores and provides access to data points that are related to one another. Relational databases are based on the relational model, an intuitive, straightforward way of representing data in tables.**\n",
    "\n",
    "https://www.oracle.com/database/what-is-a-relational-database/"
   ]
  },
  {
   "cell_type": "markdown",
   "id": "0480b705",
   "metadata": {},
   "source": [
    "<img src='database.png'>\n",
    "\n",
    "https://en.wikipedia.org/wiki/Database"
   ]
  },
  {
   "cell_type": "markdown",
   "id": "b56d8519",
   "metadata": {},
   "source": [
    "<h2 align='center'>What is a DBMS?</h2>"
   ]
  },
  {
   "cell_type": "markdown",
   "id": "2b0a6898",
   "metadata": {},
   "source": [
    "**A Database Management System (DBMS) is a software system that is designed to manage and organize data in a structured manner. It allows users to create, modify, and query a database, as well as manage the security and access controls for that database. DBMS provides an environment to store and retrieve data in convenient and efficient manner.**\n",
    "\n",
    "https://www.geeksforgeeks.org/introduction-of-dbms-database-management-system-set-1/\n",
    "\n",
    "**There are a lot of different DBMS on the market (sometimes I refer to these as 'dialects'.) It is very common for end users to use these DBMS to interact with the databases they manage.**"
   ]
  },
  {
   "cell_type": "markdown",
   "id": "f11c1b95",
   "metadata": {},
   "source": [
    "<img src='dbms.png'>\n",
    "\n",
    "https://www.techopedia.com/definition/24361/database-management-systems-dbms"
   ]
  },
  {
   "cell_type": "markdown",
   "id": "48f036e8",
   "metadata": {},
   "source": [
    "<h2 align='center'>Types of DBMS</h2>"
   ]
  },
  {
   "cell_type": "markdown",
   "id": "abceed24",
   "metadata": {},
   "source": [
    "- **MsSQL Server**\n",
    "- **MySQL**\n",
    "- **PostgreSQL**\n",
    "- **OracleDB**\n",
    "- **SQLite**\n",
    "- **etc**"
   ]
  },
  {
   "cell_type": "markdown",
   "id": "addb391e",
   "metadata": {},
   "source": [
    "<img src='DB_example.jpg'>"
   ]
  },
  {
   "cell_type": "markdown",
   "id": "2e142387",
   "metadata": {},
   "source": [
    "**It is worth noting that there are some syntactical differences between SQL that is written for MsSQL Server for example and PostgreSQL. Not all SQL is the same, however, in the interest of user friendliness much of what you learn in SQL can be easily adapted to work against a different DBMS.**\n",
    "\n",
    "**I'll also note for our purposes that Python has a very intuitive SQLite3 library that allows us to create SQLite data stores and interact with them within our Python code. This works essentially by storing a database in a file which is optimized to be extremely compact. Our Python code can then interact with this file much like SQL would interact with a hardware driven database to allow us to perform SQL operations.**"
   ]
  },
  {
   "cell_type": "markdown",
   "id": "3f817673",
   "metadata": {},
   "source": [
    "<img src='database_vs_schema.png'>\n",
    "\n",
    "https://blog.devart.com/difference-between-schema-database.html"
   ]
  },
  {
   "cell_type": "markdown",
   "id": "423817cb",
   "metadata": {},
   "source": [
    "<h2 align='center'>What is a Schema?</h2>"
   ]
  },
  {
   "cell_type": "markdown",
   "id": "8beaad6b",
   "metadata": {},
   "source": [
    "**On the contrary, the term database schema can mean either a visual data representation, a set of rules it is subject to, or a complete set of objects owned by a particular user. An easy way to imagine a schema is to think of it as a field that contains tables, stored procedures, views, and related data resources. The schema defines the infrastructure of this field.**\n",
    "\n",
    "https://blog.devart.com/difference-between-schema-database.html\n",
    "    \n",
    "**For our purposes and ease of technical understanding I like to think of a schema as a container within a database to hold tables and their relationships. A schema is not limited to these two objects, but they will be the primary subject of our exploration. It is worth noting a database can contain many schemas, or logical organizations of data which the database contains.**"
   ]
  },
  {
   "cell_type": "markdown",
   "id": "d1a22b1f",
   "metadata": {},
   "source": [
    "<h2 align='center'>What is a Table? </h2>"
   ]
  },
  {
   "cell_type": "markdown",
   "id": "f20736b2",
   "metadata": {},
   "source": [
    "**A table is a collection of related data in an organized manner in the form of rows and columns. It is an organized arrangement of data and information in tabular form containing rows and columns, making it easier to understand and compare data.**\n",
    "\n",
    "https://www.geeksforgeeks.org/components-of-table-in-database/\n",
    "    \n",
    "**It is also important to know that each table has what are referred to as 'keys.' A key is used to join tables together so that you can pull data from more than one table into a result set. Keys come in 'primary' and 'foreign.' Each table must have a primary key for other tables to join onto it, oftentimes tables also have foreign keys a reference to combine with other tables.**"
   ]
  },
  {
   "cell_type": "markdown",
   "id": "021413d1",
   "metadata": {},
   "source": [
    "<img src='db_tables.jpg'>\n",
    "\n",
    "https://support.microsoft.com/en-us/office/introduction-to-tables-78ff21ea-2f76-4fb0-8af6-c318d1ee0ea7"
   ]
  },
  {
   "cell_type": "markdown",
   "id": "9dd01648",
   "metadata": {},
   "source": [
    "<h2 align='center'>What are Fields, Records, and Values?</h2>"
   ]
  },
  {
   "cell_type": "markdown",
   "id": "49b7bb1b",
   "metadata": {},
   "source": [
    "**A field is a basic unit of data storage, representing a specific attribute or characteristic of a record or entity.**\n",
    "\n",
    "https://blaze.today/blog/field-in-a-database/\n",
    "    \n",
    "**A simple way to put this is a field is a technical term for the columns in a database table**\n",
    "\n",
    "<hr style='height:4px'>\n",
    "\n",
    "**In relational databases, a record is a group of related data held within the same structure. More specifically, a record is a grouping of fields within a table that reference one particular object. The term record is frequently used synonymously with row.**\n",
    "\n",
    "https://www.techopedia.com/definition/1231/record\n",
    "    \n",
    "**So to put it simple a record is a row in a database table.**\n",
    "\n",
    "<hr style='height:4px'>\n",
    "\n",
    "**A database value is a single piece of data stored in a database, typically associated with a specific column or field in a table or record**\n",
    "\n",
    "https://search.brave.com/search?q=What+is+a+database+value&source=web&summary=1&summary_og=59ac2b6488e98ef33b5d5b\n",
    "    \n",
    "**So a value represents the entry within a field for a particular row.**"
   ]
  },
  {
   "cell_type": "markdown",
   "id": "70f576bf",
   "metadata": {},
   "source": [
    "<img src='https://media.geeksforgeeks.org/wp-content/uploads/20231221111931/Table-660.webp'>"
   ]
  },
  {
   "cell_type": "code",
   "execution_count": null,
   "id": "29e45b27",
   "metadata": {},
   "outputs": [],
   "source": []
  }
 ],
 "metadata": {
  "kernelspec": {
   "display_name": "Python 3 (ipykernel)",
   "language": "python",
   "name": "python3"
  },
  "language_info": {
   "codemirror_mode": {
    "name": "ipython",
    "version": 3
   },
   "file_extension": ".py",
   "mimetype": "text/x-python",
   "name": "python",
   "nbconvert_exporter": "python",
   "pygments_lexer": "ipython3",
   "version": "3.11.7"
  }
 },
 "nbformat": 4,
 "nbformat_minor": 5
}
